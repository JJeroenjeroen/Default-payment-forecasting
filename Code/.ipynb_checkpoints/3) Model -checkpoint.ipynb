{
 "cells": [
  {
   "cell_type": "code",
   "execution_count": 1,
   "metadata": {},
   "outputs": [],
   "source": [
    "# Import whatever will be used in this notebook\n",
    "import pylab\n",
    "import math\n",
    "import pandas as pd\n",
    "import numpy as np\n",
    "import sklearn as sk\n",
    "import matplotlib.pyplot as plt\n",
    "\n",
    "#import SMOTE to balance trainset \n",
    "from imblearn.over_sampling import SMOTE\n",
    "\n",
    "# Import from sklearn\n",
    "#Estimators:\n",
    "from sklearn.ensemble import RandomForestClassifier\n",
    "from sklearn.svm import SVC\n",
    "from sklearn import linear_model\n",
    "from sklearn.neighbors import KNeighborsClassifier\n",
    "from sklearn.linear_model import LogisticRegression\n",
    "\n",
    "#Set generation \n",
    "from sklearn.model_selection import train_test_split\n",
    "\n",
    "#Performance metrics:\n",
    "from sklearn import metrics\n",
    "from sklearn.metrics import cohen_kappa_score\n",
    "from sklearn.metrics import confusion_matrix\n",
    "from sklearn.metrics import recall_score\n",
    "from sklearn.metrics import roc_auc_score\n",
    "from sklearn.model_selection import cross_val_score\n",
    "\n",
    "#K-fold crossvalidation\n",
    "from sklearn.model_selection import KFold"
   ]
  },
  {
   "cell_type": "code",
   "execution_count": 3,
   "metadata": {},
   "outputs": [],
   "source": [
    "# set seed\n",
    "np.random.seed(123)"
   ]
  },
  {
   "cell_type": "code",
   "execution_count": 4,
   "metadata": {},
   "outputs": [],
   "source": [
    "# Surpress warnings regarding the version of the pandas library which is used \n",
    "import warnings\n",
    "warnings.simplefilter(action='ignore', category=FutureWarning)"
   ]
  },
  {
   "cell_type": "code",
   "execution_count": 5,
   "metadata": {},
   "outputs": [],
   "source": [
    "# Make variable for the imported models\n",
    "modelSVC = SVC()\n",
    "modelRF = RandomForestClassifier()\n",
    "modelLR = LogisticRegression()\n",
    "modelKNN = KNeighborsClassifier"
   ]
  },
  {
   "cell_type": "code",
   "execution_count": 6,
   "metadata": {},
   "outputs": [],
   "source": [
    "#read in the csv file and remove the extra ID column\n",
    "credit = pd.read_csv(\"C:\\\\Users\\\\Jeroen\\\\Desktop\\\\Ubiqum\\\\Data Science\\\\Excel Files\\\\credit_3.csv\", header = 0)\n",
    "credit = credit[credit.columns[1:len(credit.columns)]]"
   ]
  },
  {
   "cell_type": "code",
   "execution_count": 7,
   "metadata": {},
   "outputs": [
    {
     "data": {
      "text/html": [
       "<div>\n",
       "<style scoped>\n",
       "    .dataframe tbody tr th:only-of-type {\n",
       "        vertical-align: middle;\n",
       "    }\n",
       "\n",
       "    .dataframe tbody tr th {\n",
       "        vertical-align: top;\n",
       "    }\n",
       "\n",
       "    .dataframe thead th {\n",
       "        text-align: right;\n",
       "    }\n",
       "</style>\n",
       "<table border=\"1\" class=\"dataframe\">\n",
       "  <thead>\n",
       "    <tr style=\"text-align: right;\">\n",
       "      <th></th>\n",
       "      <th>PAYSTAT_SEP</th>\n",
       "      <th>CUR_BIL_SEP</th>\n",
       "      <th>PAID_SEP</th>\n",
       "      <th>CREDIT</th>\n",
       "      <th>CREDIT_RATIO</th>\n",
       "      <th>AGE</th>\n",
       "      <th>DEFAULT</th>\n",
       "    </tr>\n",
       "  </thead>\n",
       "  <tbody>\n",
       "    <tr>\n",
       "      <th>29461</th>\n",
       "      <td>0.017741</td>\n",
       "      <td>1.849291</td>\n",
       "      <td>0.164656</td>\n",
       "      <td>0.412625</td>\n",
       "      <td>1.132625</td>\n",
       "      <td>0.387036</td>\n",
       "      <td>1</td>\n",
       "    </tr>\n",
       "    <tr>\n",
       "      <th>29462</th>\n",
       "      <td>-0.875875</td>\n",
       "      <td>-0.682263</td>\n",
       "      <td>-0.234720</td>\n",
       "      <td>-0.127385</td>\n",
       "      <td>-1.004498</td>\n",
       "      <td>0.822032</td>\n",
       "      <td>1</td>\n",
       "    </tr>\n",
       "    <tr>\n",
       "      <th>29463</th>\n",
       "      <td>3.592206</td>\n",
       "      <td>-0.656821</td>\n",
       "      <td>-0.344828</td>\n",
       "      <td>-1.053118</td>\n",
       "      <td>-0.758007</td>\n",
       "      <td>0.169538</td>\n",
       "      <td>0</td>\n",
       "    </tr>\n",
       "    <tr>\n",
       "      <th>29464</th>\n",
       "      <td>0.911357</td>\n",
       "      <td>-0.727253</td>\n",
       "      <td>4.803964</td>\n",
       "      <td>-0.667396</td>\n",
       "      <td>1.388081</td>\n",
       "      <td>0.604534</td>\n",
       "      <td>0</td>\n",
       "    </tr>\n",
       "    <tr>\n",
       "      <th>29465</th>\n",
       "      <td>0.017741</td>\n",
       "      <td>-0.057084</td>\n",
       "      <td>-0.220274</td>\n",
       "      <td>-0.898829</td>\n",
       "      <td>1.384032</td>\n",
       "      <td>1.148279</td>\n",
       "      <td>0</td>\n",
       "    </tr>\n",
       "  </tbody>\n",
       "</table>\n",
       "</div>"
      ],
      "text/plain": [
       "       PAYSTAT_SEP  CUR_BIL_SEP  PAID_SEP    CREDIT  CREDIT_RATIO       AGE  \\\n",
       "29461     0.017741     1.849291  0.164656  0.412625      1.132625  0.387036   \n",
       "29462    -0.875875    -0.682263 -0.234720 -0.127385     -1.004498  0.822032   \n",
       "29463     3.592206    -0.656821 -0.344828 -1.053118     -0.758007  0.169538   \n",
       "29464     0.911357    -0.727253  4.803964 -0.667396      1.388081  0.604534   \n",
       "29465     0.017741    -0.057084 -0.220274 -0.898829      1.384032  1.148279   \n",
       "\n",
       "       DEFAULT  \n",
       "29461        1  \n",
       "29462        1  \n",
       "29463        0  \n",
       "29464        0  \n",
       "29465        0  "
      ]
     },
     "execution_count": 7,
     "metadata": {},
     "output_type": "execute_result"
    }
   ],
   "source": [
    "#Give head of the df so it is easily visible which vars should function as independent variable\n",
    "credit.head()\n",
    "credit.tail()"
   ]
  },
  {
   "cell_type": "code",
   "execution_count": 8,
   "metadata": {},
   "outputs": [
    {
     "data": {
      "text/html": [
       "<div>\n",
       "<style scoped>\n",
       "    .dataframe tbody tr th:only-of-type {\n",
       "        vertical-align: middle;\n",
       "    }\n",
       "\n",
       "    .dataframe tbody tr th {\n",
       "        vertical-align: top;\n",
       "    }\n",
       "\n",
       "    .dataframe thead th {\n",
       "        text-align: right;\n",
       "    }\n",
       "</style>\n",
       "<table border=\"1\" class=\"dataframe\">\n",
       "  <thead>\n",
       "    <tr style=\"text-align: right;\">\n",
       "      <th></th>\n",
       "      <th>PAYSTAT_SEP</th>\n",
       "      <th>CUR_BIL_SEP</th>\n",
       "      <th>PAID_SEP</th>\n",
       "      <th>CREDIT</th>\n",
       "      <th>CREDIT_RATIO</th>\n",
       "      <th>AGE</th>\n",
       "    </tr>\n",
       "  </thead>\n",
       "  <tbody>\n",
       "    <tr>\n",
       "      <th>0</th>\n",
       "      <td>1.804974</td>\n",
       "      <td>-0.652117</td>\n",
       "      <td>-0.344828</td>\n",
       "      <td>-1.130262</td>\n",
       "      <td>-0.651099</td>\n",
       "      <td>-1.244199</td>\n",
       "    </tr>\n",
       "    <tr>\n",
       "      <th>1</th>\n",
       "      <td>-0.875875</td>\n",
       "      <td>-0.668758</td>\n",
       "      <td>-0.344828</td>\n",
       "      <td>-0.358818</td>\n",
       "      <td>-0.999086</td>\n",
       "      <td>-1.026701</td>\n",
       "    </tr>\n",
       "    <tr>\n",
       "      <th>2</th>\n",
       "      <td>0.017741</td>\n",
       "      <td>-0.309746</td>\n",
       "      <td>-0.253840</td>\n",
       "      <td>-0.590251</td>\n",
       "      <td>-0.649230</td>\n",
       "      <td>-0.156709</td>\n",
       "    </tr>\n",
       "    <tr>\n",
       "      <th>3</th>\n",
       "      <td>0.017741</td>\n",
       "      <td>-0.069778</td>\n",
       "      <td>-0.224950</td>\n",
       "      <td>-0.898829</td>\n",
       "      <td>1.350797</td>\n",
       "      <td>0.169538</td>\n",
       "    </tr>\n",
       "    <tr>\n",
       "      <th>4</th>\n",
       "      <td>-0.875875</td>\n",
       "      <td>-0.588526</td>\n",
       "      <td>-0.224950</td>\n",
       "      <td>-0.898829</td>\n",
       "      <td>-0.754215</td>\n",
       "      <td>2.344518</td>\n",
       "    </tr>\n",
       "  </tbody>\n",
       "</table>\n",
       "</div>"
      ],
      "text/plain": [
       "   PAYSTAT_SEP  CUR_BIL_SEP  PAID_SEP    CREDIT  CREDIT_RATIO       AGE\n",
       "0     1.804974    -0.652117 -0.344828 -1.130262     -0.651099 -1.244199\n",
       "1    -0.875875    -0.668758 -0.344828 -0.358818     -0.999086 -1.026701\n",
       "2     0.017741    -0.309746 -0.253840 -0.590251     -0.649230 -0.156709\n",
       "3     0.017741    -0.069778 -0.224950 -0.898829      1.350797  0.169538\n",
       "4    -0.875875    -0.588526 -0.224950 -0.898829     -0.754215  2.344518"
      ]
     },
     "execution_count": 8,
     "metadata": {},
     "output_type": "execute_result"
    }
   ],
   "source": [
    "#Select the features that will function as independent variables:\n",
    "credit_indep = credit.iloc[:, 0:(len(credit.columns)-1)]\n",
    "credit_indep.head()"
   ]
  },
  {
   "cell_type": "code",
   "execution_count": 9,
   "metadata": {},
   "outputs": [
    {
     "data": {
      "text/plain": [
       "0    0\n",
       "1    0\n",
       "2    1\n",
       "3    1\n",
       "4    1\n",
       "Name: DEFAULT, dtype: int64"
      ]
     },
     "execution_count": 9,
     "metadata": {},
     "output_type": "execute_result"
    }
   ],
   "source": [
    "#Select the dependent variable and turn it into a seperate vector:\n",
    "credit_dep = credit['DEFAULT']\n",
    "credit_dep.head()"
   ]
  },
  {
   "cell_type": "code",
   "execution_count": 10,
   "metadata": {},
   "outputs": [
    {
     "data": {
      "text/html": [
       "<div>\n",
       "<style scoped>\n",
       "    .dataframe tbody tr th:only-of-type {\n",
       "        vertical-align: middle;\n",
       "    }\n",
       "\n",
       "    .dataframe tbody tr th {\n",
       "        vertical-align: top;\n",
       "    }\n",
       "\n",
       "    .dataframe thead th {\n",
       "        text-align: right;\n",
       "    }\n",
       "</style>\n",
       "<table border=\"1\" class=\"dataframe\">\n",
       "  <thead>\n",
       "    <tr style=\"text-align: right;\">\n",
       "      <th></th>\n",
       "      <th>PAYSTAT_SEP</th>\n",
       "      <th>CUR_BIL_SEP</th>\n",
       "      <th>PAID_SEP</th>\n",
       "      <th>CREDIT</th>\n",
       "      <th>CREDIT_RATIO</th>\n",
       "      <th>AGE</th>\n",
       "      <th>DEFAULT</th>\n",
       "    </tr>\n",
       "  </thead>\n",
       "  <tbody>\n",
       "    <tr>\n",
       "      <th>count</th>\n",
       "      <td>2.946600e+04</td>\n",
       "      <td>2.946600e+04</td>\n",
       "      <td>2.946600e+04</td>\n",
       "      <td>2.946600e+04</td>\n",
       "      <td>2.946600e+04</td>\n",
       "      <td>2.946600e+04</td>\n",
       "      <td>29466.000000</td>\n",
       "    </tr>\n",
       "    <tr>\n",
       "      <th>mean</th>\n",
       "      <td>-3.208420e-15</td>\n",
       "      <td>-2.103345e-16</td>\n",
       "      <td>2.656975e-16</td>\n",
       "      <td>-3.281235e-15</td>\n",
       "      <td>3.921537e-16</td>\n",
       "      <td>4.803280e-16</td>\n",
       "      <td>0.792914</td>\n",
       "    </tr>\n",
       "    <tr>\n",
       "      <th>std</th>\n",
       "      <td>1.000017e+00</td>\n",
       "      <td>1.000017e+00</td>\n",
       "      <td>1.000017e+00</td>\n",
       "      <td>1.000017e+00</td>\n",
       "      <td>1.000017e+00</td>\n",
       "      <td>1.000017e+00</td>\n",
       "      <td>0.405225</td>\n",
       "    </tr>\n",
       "    <tr>\n",
       "      <th>min</th>\n",
       "      <td>-1.769491e+00</td>\n",
       "      <td>-2.943419e+00</td>\n",
       "      <td>-3.448283e-01</td>\n",
       "      <td>-1.207406e+00</td>\n",
       "      <td>-4.485552e+00</td>\n",
       "      <td>-1.570446e+00</td>\n",
       "      <td>0.000000</td>\n",
       "    </tr>\n",
       "    <tr>\n",
       "      <th>25%</th>\n",
       "      <td>-8.758749e-01</td>\n",
       "      <td>-6.490855e-01</td>\n",
       "      <td>-2.847691e-01</td>\n",
       "      <td>-8.988289e-01</td>\n",
       "      <td>-9.815463e-01</td>\n",
       "      <td>-8.092031e-01</td>\n",
       "      <td>1.000000</td>\n",
       "    </tr>\n",
       "    <tr>\n",
       "      <th>50%</th>\n",
       "      <td>1.774131e-02</td>\n",
       "      <td>-3.848821e-01</td>\n",
       "      <td>-2.132614e-01</td>\n",
       "      <td>-2.045296e-01</td>\n",
       "      <td>-2.549452e-01</td>\n",
       "      <td>-1.567091e-01</td>\n",
       "      <td>1.000000</td>\n",
       "    </tr>\n",
       "    <tr>\n",
       "      <th>75%</th>\n",
       "      <td>1.774131e-02</td>\n",
       "      <td>2.204590e-01</td>\n",
       "      <td>-4.252409e-02</td>\n",
       "      <td>5.669140e-01</td>\n",
       "      <td>9.783657e-01</td>\n",
       "      <td>6.045339e-01</td>\n",
       "      <td>1.000000</td>\n",
       "    </tr>\n",
       "    <tr>\n",
       "      <th>max</th>\n",
       "      <td>7.166671e+00</td>\n",
       "      <td>1.233379e+01</td>\n",
       "      <td>5.201533e+01</td>\n",
       "      <td>6.429886e+00</td>\n",
       "      <td>1.474319e+01</td>\n",
       "      <td>4.736996e+00</td>\n",
       "      <td>1.000000</td>\n",
       "    </tr>\n",
       "  </tbody>\n",
       "</table>\n",
       "</div>"
      ],
      "text/plain": [
       "        PAYSTAT_SEP   CUR_BIL_SEP      PAID_SEP        CREDIT  CREDIT_RATIO  \\\n",
       "count  2.946600e+04  2.946600e+04  2.946600e+04  2.946600e+04  2.946600e+04   \n",
       "mean  -3.208420e-15 -2.103345e-16  2.656975e-16 -3.281235e-15  3.921537e-16   \n",
       "std    1.000017e+00  1.000017e+00  1.000017e+00  1.000017e+00  1.000017e+00   \n",
       "min   -1.769491e+00 -2.943419e+00 -3.448283e-01 -1.207406e+00 -4.485552e+00   \n",
       "25%   -8.758749e-01 -6.490855e-01 -2.847691e-01 -8.988289e-01 -9.815463e-01   \n",
       "50%    1.774131e-02 -3.848821e-01 -2.132614e-01 -2.045296e-01 -2.549452e-01   \n",
       "75%    1.774131e-02  2.204590e-01 -4.252409e-02  5.669140e-01  9.783657e-01   \n",
       "max    7.166671e+00  1.233379e+01  5.201533e+01  6.429886e+00  1.474319e+01   \n",
       "\n",
       "                AGE       DEFAULT  \n",
       "count  2.946600e+04  29466.000000  \n",
       "mean   4.803280e-16      0.792914  \n",
       "std    1.000017e+00      0.405225  \n",
       "min   -1.570446e+00      0.000000  \n",
       "25%   -8.092031e-01      1.000000  \n",
       "50%   -1.567091e-01      1.000000  \n",
       "75%    6.045339e-01      1.000000  \n",
       "max    4.736996e+00      1.000000  "
      ]
     },
     "execution_count": 10,
     "metadata": {},
     "output_type": "execute_result"
    }
   ],
   "source": [
    "credit.describe()"
   ]
  },
  {
   "cell_type": "code",
   "execution_count": 11,
   "metadata": {},
   "outputs": [
    {
     "name": "stdout",
     "output_type": "stream",
     "text": [
      "(20626, 6) (20626,)\n",
      "(8840, 6) (8840,)\n",
      "[ 4285 16341]\n"
     ]
    }
   ],
   "source": [
    "#generate a dataframe that functions as a trainingset\n",
    "\n",
    "X_train, X_test, y_train, y_test = train_test_split(credit_indep, credit_dep, test_size=0.3)\n",
    "print(X_train.shape, y_train.shape)\n",
    "print(X_test.shape, y_test.shape)\n",
    "print(np.bincount(y_train))"
   ]
  },
  {
   "cell_type": "code",
   "execution_count": 12,
   "metadata": {},
   "outputs": [],
   "source": [
    "#balance the data\n",
    "smt = SMOTE()\n",
    "X_train, y_train = smt.fit_sample(X_train, y_train)"
   ]
  },
  {
   "cell_type": "code",
   "execution_count": 13,
   "metadata": {},
   "outputs": [
    {
     "name": "stdout",
     "output_type": "stream",
     "text": [
      "(32682, 6) (32682,)\n",
      "(8840, 6) (8840,)\n",
      "[16341 16341]\n"
     ]
    }
   ],
   "source": [
    "print(X_train.shape, y_train.shape)\n",
    "print(X_test.shape, y_test.shape)\n",
    "print(np.bincount(y_train))"
   ]
  },
  {
   "cell_type": "code",
   "execution_count": 14,
   "metadata": {},
   "outputs": [
    {
     "name": "stdout",
     "output_type": "stream",
     "text": [
      "0.8021245774987928\n"
     ]
    }
   ],
   "source": [
    "# Do a Kfold cross validation on the training data for k = 5\n",
    "\n",
    "knn = KNeighborsClassifier(n_neighbors = 5)\n",
    "CVscores = cross_val_score(knn, X_train, y_train, cv = 10, scoring = \"accuracy\")\n",
    "print(CVscores.mean())"
   ]
  },
  {
   "cell_type": "code",
   "execution_count": 15,
   "metadata": {},
   "outputs": [
    {
     "name": "stdout",
     "output_type": "stream",
     "text": [
      "[0.8029802102867581, 0.8195650343054137, 0.7910476158392568, 0.8021245774987928, 0.7805220673830939, 0.7897629501532795, 0.776085626911315, 0.779574055150678, 0.7706699006958403, 0.7751988890510895, 0.7658360377153681, 0.7691712051624688, 0.7607261218974469, 0.7632353954012404, 0.7590739409864536, 0.7614302531451308, 0.755096459411811, 0.7577891068614571]\n"
     ]
    }
   ],
   "source": [
    "# Do a Kfold cross validation on the training data to select optimal K \n",
    "k_range = range(2,20)\n",
    "k_scores= []\n",
    "for k in k_range:\n",
    "    knn = KNeighborsClassifier(n_neighbors = k)\n",
    "    CVscores = cross_val_score(knn, X_train, y_train, cv = 10, scoring = \"accuracy\")\n",
    "    k_scores.append(CVscores.mean())\n",
    "print(k_scores)"
   ]
  },
  {
   "cell_type": "code",
   "execution_count": 16,
   "metadata": {},
   "outputs": [
    {
     "data": {
      "text/plain": [
       "Text(0,0.5,'Cross validation score')"
      ]
     },
     "execution_count": 16,
     "metadata": {},
     "output_type": "execute_result"
    },
    {
     "data": {
      "image/png": "[encoded data removed]",
      "text/plain": [
       "<Figure size 432x288 with 1 Axes>"
      ]
     },
     "metadata": {
      "needs_background": "light"
     },
     "output_type": "display_data"
    }
   ],
   "source": [
    "plt.plot(k_range, k_scores)\n",
    "plt.xlabel('Number of Neighbors')\n",
    "plt.ylabel('Cross validation score')"
   ]
  },
  {
   "cell_type": "code",
   "execution_count": 15,
   "metadata": {},
   "outputs": [
    {
     "name": "stdout",
     "output_type": "stream",
     "text": [
      "Accuracy = 0.6864253393665158\n",
      "Cohen's Kappa = 0.22078972673480923\n",
      "Recall = 0.7235563178959405\n",
      "ROC area under curve = 0.6345547316160831\n"
     ]
    }
   ],
   "source": [
    "# Check classification accuracy using the top K that was retrieved from the Knn cross-validation\n",
    "knn = KNeighborsClassifier(n_neighbors = k_range[((k_scores.index(max(k_scores))))])\n",
    "knn.fit(X_train, y_train)\n",
    "y_pred = knn.predict(X_test)\n",
    "print(\"Accuracy =\", metrics.accuracy_score(y_test, y_pred))\n",
    "print(\"Cohen's Kappa =\", cohen_kappa_score(y_test, y_pred))\n",
    "print(\"Recall =\", recall_score(y_test, y_pred))\n",
    "print(\"ROC area under curve =\", roc_auc_score(y_test, y_pred))"
   ]
  },
  {
   "cell_type": "code",
   "execution_count": 16,
   "metadata": {},
   "outputs": [
    {
     "name": "stdout",
     "output_type": "stream",
     "text": [
      "0.6657193894849096\n"
     ]
    }
   ],
   "source": [
    "# Do a Kfold cross validation on the training data for a logistic regression\n",
    "\n",
    "logregression = LogisticRegression(solver='liblinear')\n",
    "CVscores = cross_val_score(logregression, X_train, y_train, cv = 10, scoring = \"accuracy\")\n",
    "print(CVscores.mean())"
   ]
  },
  {
   "cell_type": "code",
   "execution_count": 17,
   "metadata": {},
   "outputs": [
    {
     "name": "stdout",
     "output_type": "stream",
     "text": [
      "Accuracy = 0.6630090497737556\n",
      "Cohen's Kappa = 0.23216491661519456\n",
      "Recall = 0.6692395654659805\n",
      "ROC area under curve = 0.6543052491104305\n"
     ]
    }
   ],
   "source": [
    "# Check classification accuracy using the logregression\n",
    "\n",
    "logregression.fit(X_train, y_train)\n",
    "y_pred = logregression.predict(X_test)\n",
    "print(\"Accuracy =\", metrics.accuracy_score(y_test, y_pred))\n",
    "print(\"Cohen's Kappa =\", cohen_kappa_score(y_test, y_pred))\n",
    "print(\"Recall =\", recall_score(y_test, y_pred))\n",
    "print(\"ROC area under curve =\", roc_auc_score(y_test, y_pred))"
   ]
  },
  {
   "cell_type": "code",
   "execution_count": 18,
   "metadata": {},
   "outputs": [
    {
     "data": {
      "text/plain": [
       "RandomForestClassifier(bootstrap=True, class_weight=None, criterion='gini',\n",
       "            max_depth=None, max_features='auto', max_leaf_nodes=None,\n",
       "            min_impurity_decrease=0.0, min_impurity_split=None,\n",
       "            min_samples_leaf=1, min_samples_split=2,\n",
       "            min_weight_fraction_leaf=0.0, n_estimators=10, n_jobs=None,\n",
       "            oob_score=False, random_state=None, verbose=0,\n",
       "            warm_start=False)"
      ]
     },
     "execution_count": 18,
     "metadata": {},
     "output_type": "execute_result"
    }
   ],
   "source": [
    "#train using a Support vector machine, a random forest and a logistic regression, \n",
    "\n",
    "modelSVC.fit(X_train, y_train)\n",
    "modelRF.fit(X_train, y_train)\n"
   ]
  },
  {
   "cell_type": "code",
   "execution_count": 19,
   "metadata": {},
   "outputs": [
    {
     "name": "stdout",
     "output_type": "stream",
     "text": [
      "[0.71352639 0.71425953 0.71059384]\n",
      "[0.7847324  0.83403592 0.83605205]\n",
      "0.7167949657869013\n",
      "0.9915689149560117\n"
     ]
    }
   ],
   "source": [
    "#Print cross-validation scores \n",
    "\n",
    "print(cross_val_score(modelSVC, X_train, y_train)) \n",
    "print(cross_val_score(modelRF, X_train, y_train)) \n",
    "\n",
    "#Print model validation scores \n",
    "\n",
    "print(modelSVC.score(X_train, y_train))\n",
    "print(modelRF.score(X_train, y_train))\n"
   ]
  },
  {
   "cell_type": "code",
   "execution_count": 20,
   "metadata": {},
   "outputs": [
    {
     "name": "stdout",
     "output_type": "stream",
     "text": [
      "Accuracy = 0.7737556561085973\n",
      "Cohen's Kappa = 0.3522701027809594\n",
      "Recall = 0.8363350485991995\n",
      "ROC area under curve = 0.6863345524991659\n",
      "[[ 989  855]\n",
      " [1145 5851]]\n"
     ]
    }
   ],
   "source": [
    "# Check classification accuracy of using the Support Vector Machine\n",
    "y_pred = modelSVC.predict(X_test)\n",
    "print(\"Accuracy =\", metrics.accuracy_score(y_test, y_pred))\n",
    "print(\"Cohen's Kappa =\", cohen_kappa_score(y_test, y_pred))\n",
    "print(\"Recall =\", recall_score(y_test, y_pred))\n",
    "print(\"ROC area under curve =\", roc_auc_score(y_test, y_pred))\n",
    "print(confusion_matrix(y_test, y_pred))"
   ]
  },
  {
   "cell_type": "code",
   "execution_count": 21,
   "metadata": {},
   "outputs": [
    {
     "name": "stdout",
     "output_type": "stream",
     "text": [
      "Accuracy = 0.7476244343891403\n",
      "Cohen's Kappa = 0.30412081584170936\n",
      "Recall = 0.8053173241852487\n",
      "ROC area under curve = 0.667029594847505\n",
      "[[ 975  869]\n",
      " [1362 5634]]\n"
     ]
    }
   ],
   "source": [
    "# Check classification of accuracy using the Random forest\n",
    "y_pred = modelRF.predict(X_test)\n",
    "print(\"Accuracy =\", metrics.accuracy_score(y_test, y_pred))\n",
    "print(\"Cohen's Kappa =\", cohen_kappa_score(y_test, y_pred))\n",
    "print(\"Recall =\", recall_score(y_test, y_pred))\n",
    "print(\"ROC area under curve =\", roc_auc_score(y_test, y_pred))\n",
    "print(confusion_matrix(y_test, y_pred))"
   ]
  },
  {
   "cell_type": "code",
   "execution_count": null,
   "metadata": {},
   "outputs": [],
   "source": []
  },
  {
   "cell_type": "code",
   "execution_count": 17,
   "metadata": {},
   "outputs": [
    {
     "name": "stderr",
     "output_type": "stream",
     "text": [
      "Using TensorFlow backend.\n"
     ]
    }
   ],
   "source": [
    "from keras.models import Sequential\n",
    "from keras.layers import Dense"
   ]
  },
  {
   "cell_type": "code",
   "execution_count": 22,
   "metadata": {},
   "outputs": [],
   "source": [
    "# create model\n",
    "model = Sequential()\n",
    "model.add(Dense(6, input_dim=6, activation='relu'))\n",
    "model.add(Dense(8, activation='relu'))\n",
    "model.add(Dense(1, activation='sigmoid'))"
   ]
  },
  {
   "cell_type": "code",
   "execution_count": 23,
   "metadata": {},
   "outputs": [],
   "source": [
    "# Compile model\n",
    "model.compile(loss='binary_crossentropy', optimizer='adam', metrics=['accuracy'])"
   ]
  },
  {
   "cell_type": "code",
   "execution_count": 24,
   "metadata": {},
   "outputs": [
    {
     "name": "stdout",
     "output_type": "stream",
     "text": [
      "WARNING:tensorflow:From D:\\Users\\Jeroen\\Anaconda3\\lib\\site-packages\\tensorflow\\python\\ops\\math_ops.py:3066: to_int32 (from tensorflow.python.ops.math_ops) is deprecated and will be removed in a future version.\n",
      "Instructions for updating:\n",
      "Use tf.cast instead.\n",
      "Epoch 1/150\n",
      "32682/32682 [==============================] - 4s 121us/step - loss: 0.5895 - acc: 0.6798\n",
      "Epoch 2/150\n",
      "32682/32682 [==============================] - 4s 113us/step - loss: 0.5700 - acc: 0.6981\n",
      "Epoch 3/150\n",
      "32682/32682 [==============================] - 4s 122us/step - loss: 0.5650 - acc: 0.7040\n",
      "Epoch 4/150\n",
      "32682/32682 [==============================] - 4s 109us/step - loss: 0.5621 - acc: 0.7067\n",
      "Epoch 5/150\n",
      "32682/32682 [==============================] - 4s 110us/step - loss: 0.5596 - acc: 0.7077\n",
      "Epoch 6/150\n",
      "32682/32682 [==============================] - 4s 109us/step - loss: 0.5578 - acc: 0.7104\n",
      "Epoch 7/150\n",
      "32682/32682 [==============================] - 4s 115us/step - loss: 0.5571 - acc: 0.7062\n",
      "Epoch 8/150\n",
      "32682/32682 [==============================] - 4s 118us/step - loss: 0.5563 - acc: 0.7076\n",
      "Epoch 9/150\n",
      "32682/32682 [==============================] - 4s 110us/step - loss: 0.5556 - acc: 0.7079\n",
      "Epoch 10/150\n",
      "32682/32682 [==============================] - 4s 113us/step - loss: 0.5550 - acc: 0.7087\n",
      "Epoch 11/150\n",
      "32682/32682 [==============================] - 4s 110us/step - loss: 0.5545 - acc: 0.7099\n",
      "Epoch 12/150\n",
      "32682/32682 [==============================] - 4s 125us/step - loss: 0.5539 - acc: 0.7105\n",
      "Epoch 13/150\n",
      "32682/32682 [==============================] - 4s 120us/step - loss: 0.5535 - acc: 0.7102\n",
      "Epoch 14/150\n",
      "32682/32682 [==============================] - 4s 113us/step - loss: 0.5525 - acc: 0.7116\n",
      "Epoch 15/150\n",
      "32682/32682 [==============================] - 4s 117us/step - loss: 0.5524 - acc: 0.7106\n",
      "Epoch 16/150\n",
      "32682/32682 [==============================] - 5s 138us/step - loss: 0.5517 - acc: 0.7111\n",
      "Epoch 17/150\n",
      "32682/32682 [==============================] - 4s 116us/step - loss: 0.5517 - acc: 0.7105\n",
      "Epoch 18/150\n",
      "32682/32682 [==============================] - 4s 116us/step - loss: 0.5515 - acc: 0.7106\n",
      "Epoch 19/150\n",
      "32682/32682 [==============================] - 4s 115us/step - loss: 0.5509 - acc: 0.7124\n",
      "Epoch 20/150\n",
      "32682/32682 [==============================] - 4s 130us/step - loss: 0.5506 - acc: 0.7116\n",
      "Epoch 21/150\n",
      "32682/32682 [==============================] - 4s 118us/step - loss: 0.5501 - acc: 0.7116\n",
      "Epoch 22/150\n",
      "32682/32682 [==============================] - 4s 121us/step - loss: 0.5497 - acc: 0.7113\n",
      "Epoch 23/150\n",
      "32682/32682 [==============================] - 4s 126us/step - loss: 0.5497 - acc: 0.7115\n",
      "Epoch 24/150\n",
      "32682/32682 [==============================] - 4s 132us/step - loss: 0.5490 - acc: 0.7117\n",
      "Epoch 25/150\n",
      "32682/32682 [==============================] - 4s 122us/step - loss: 0.5489 - acc: 0.7133\n",
      "Epoch 26/150\n",
      "32682/32682 [==============================] - 4s 133us/step - loss: 0.5482 - acc: 0.7126\n",
      "Epoch 27/150\n",
      "32682/32682 [==============================] - 4s 118us/step - loss: 0.5483 - acc: 0.7138\n",
      "Epoch 28/150\n",
      "32682/32682 [==============================] - 5s 148us/step - loss: 0.5484 - acc: 0.7130\n",
      "Epoch 29/150\n",
      "32682/32682 [==============================] - 6s 196us/step - loss: 0.5479 - acc: 0.7134\n",
      "Epoch 30/150\n",
      "32682/32682 [==============================] - 6s 196us/step - loss: 0.5481 - acc: 0.7110\n",
      "Epoch 31/150\n",
      "32682/32682 [==============================] - 6s 187us/step - loss: 0.5478 - acc: 0.7132\n",
      "Epoch 32/150\n",
      "32682/32682 [==============================] - 4s 128us/step - loss: 0.5477 - acc: 0.7124\n",
      "Epoch 33/150\n",
      "32682/32682 [==============================] - 4s 126us/step - loss: 0.5474 - acc: 0.7132\n",
      "Epoch 34/150\n",
      "32682/32682 [==============================] - 4s 130us/step - loss: 0.5476 - acc: 0.7140\n",
      "Epoch 35/150\n",
      "32682/32682 [==============================] - 4s 119us/step - loss: 0.5476 - acc: 0.7130\n",
      "Epoch 36/150\n",
      "32682/32682 [==============================] - 5s 165us/step - loss: 0.5474 - acc: 0.7129\n",
      "Epoch 37/150\n",
      "32682/32682 [==============================] - 6s 191us/step - loss: 0.5474 - acc: 0.7136\n",
      "Epoch 38/150\n",
      "32682/32682 [==============================] - 4s 120us/step - loss: 0.5474 - acc: 0.7125\n",
      "Epoch 39/150\n",
      "32682/32682 [==============================] - 4s 113us/step - loss: 0.5471 - acc: 0.7148\n",
      "Epoch 40/150\n",
      "32682/32682 [==============================] - 4s 128us/step - loss: 0.5475 - acc: 0.7118\n",
      "Epoch 41/150\n",
      "32682/32682 [==============================] - 5s 139us/step - loss: 0.5472 - acc: 0.7124\n",
      "Epoch 42/150\n",
      "32682/32682 [==============================] - 4s 128us/step - loss: 0.5469 - acc: 0.7120\n",
      "Epoch 43/150\n",
      "32682/32682 [==============================] - 4s 127us/step - loss: 0.5470 - acc: 0.7121\n",
      "Epoch 44/150\n",
      "32682/32682 [==============================] - 5s 152us/step - loss: 0.5470 - acc: 0.7125\n",
      "Epoch 45/150\n",
      "32682/32682 [==============================] - 4s 135us/step - loss: 0.5466 - acc: 0.7135\n",
      "Epoch 46/150\n",
      "32682/32682 [==============================] - 4s 122us/step - loss: 0.5468 - acc: 0.7143\n",
      "Epoch 47/150\n",
      "32682/32682 [==============================] - 4s 117us/step - loss: 0.5467 - acc: 0.7136\n",
      "Epoch 48/150\n",
      "32682/32682 [==============================] - 5s 143us/step - loss: 0.5465 - acc: 0.7129\n",
      "Epoch 49/150\n",
      "32682/32682 [==============================] - 4s 138us/step - loss: 0.5463 - acc: 0.7139\n",
      "Epoch 50/150\n",
      "32682/32682 [==============================] - 5s 154us/step - loss: 0.5461 - acc: 0.7150\n",
      "Epoch 51/150\n",
      "32682/32682 [==============================] - 7s 203us/step - loss: 0.5465 - acc: 0.7146\n",
      "Epoch 52/150\n",
      "32682/32682 [==============================] - 9s 264us/step - loss: 0.5462 - acc: 0.7146\n",
      "Epoch 53/150\n",
      "32682/32682 [==============================] - 8s 258us/step - loss: 0.5462 - acc: 0.7129\n",
      "Epoch 54/150\n",
      "32682/32682 [==============================] - 5s 145us/step - loss: 0.5462 - acc: 0.7153\n",
      "Epoch 55/150\n",
      "32682/32682 [==============================] - 3s 96us/step - loss: 0.5462 - acc: 0.7121\n",
      "Epoch 56/150\n",
      "32682/32682 [==============================] - 3s 104us/step - loss: 0.5460 - acc: 0.7142\n",
      "Epoch 57/150\n",
      "32682/32682 [==============================] - 4s 132us/step - loss: 0.5460 - acc: 0.7140\n",
      "Epoch 58/150\n",
      "32682/32682 [==============================] - 5s 160us/step - loss: 0.5459 - acc: 0.7144\n",
      "Epoch 59/150\n",
      "32682/32682 [==============================] - 5s 140us/step - loss: 0.5457 - acc: 0.7138\n",
      "Epoch 60/150\n",
      "32682/32682 [==============================] - 5s 156us/step - loss: 0.5455 - acc: 0.7154\n",
      "Epoch 61/150\n",
      "32682/32682 [==============================] - 5s 158us/step - loss: 0.5457 - acc: 0.7138\n",
      "Epoch 62/150\n",
      "32682/32682 [==============================] - 5s 152us/step - loss: 0.5457 - acc: 0.7136\n",
      "Epoch 63/150\n",
      "32682/32682 [==============================] - 5s 143us/step - loss: 0.5459 - acc: 0.7123\n",
      "Epoch 64/150\n",
      "32682/32682 [==============================] - 5s 143us/step - loss: 0.5454 - acc: 0.7153\n",
      "Epoch 65/150\n",
      "32682/32682 [==============================] - 4s 134us/step - loss: 0.5458 - acc: 0.7140\n",
      "Epoch 66/150\n",
      "32682/32682 [==============================] - 4s 127us/step - loss: 0.5456 - acc: 0.7144\n",
      "Epoch 67/150\n",
      "32682/32682 [==============================] - 3s 107us/step - loss: 0.5455 - acc: 0.7164\n",
      "Epoch 68/150\n",
      "32682/32682 [==============================] - 3s 95us/step - loss: 0.5460 - acc: 0.7146\n",
      "Epoch 69/150\n",
      "32682/32682 [==============================] - 3s 90us/step - loss: 0.5454 - acc: 0.7126\n",
      "Epoch 70/150\n",
      "32682/32682 [==============================] - 3s 88us/step - loss: 0.5453 - acc: 0.7121\n",
      "Epoch 71/150\n",
      "32682/32682 [==============================] - 4s 108us/step - loss: 0.5455 - acc: 0.7156\n",
      "Epoch 72/150\n",
      "32682/32682 [==============================] - 3s 96us/step - loss: 0.5454 - acc: 0.7154\n",
      "Epoch 73/150\n",
      "32682/32682 [==============================] - 4s 117us/step - loss: 0.5455 - acc: 0.7144\n",
      "Epoch 74/150\n",
      "32682/32682 [==============================] - 3s 89us/step - loss: 0.5451 - acc: 0.7158\n",
      "Epoch 75/150\n",
      "32682/32682 [==============================] - 3s 102us/step - loss: 0.5450 - acc: 0.7139\n",
      "Epoch 76/150\n",
      "32682/32682 [==============================] - 3s 97us/step - loss: 0.5452 - acc: 0.7129\n",
      "Epoch 77/150\n",
      "32682/32682 [==============================] - 3s 106us/step - loss: 0.5453 - acc: 0.7150\n",
      "Epoch 78/150\n"
     ]
    },
    {
     "name": "stdout",
     "output_type": "stream",
     "text": [
      "32682/32682 [==============================] - 5s 142us/step - loss: 0.5452 - acc: 0.7132\n",
      "Epoch 79/150\n",
      "32682/32682 [==============================] - 4s 125us/step - loss: 0.5453 - acc: 0.7160\n",
      "Epoch 80/150\n",
      "32682/32682 [==============================] - 4s 108us/step - loss: 0.5447 - acc: 0.7154\n",
      "Epoch 81/150\n",
      "32682/32682 [==============================] - 4s 110us/step - loss: 0.5450 - acc: 0.7140\n",
      "Epoch 82/150\n",
      "32682/32682 [==============================] - 4s 133us/step - loss: 0.5450 - acc: 0.7140\n",
      "Epoch 83/150\n",
      "32682/32682 [==============================] - 4s 121us/step - loss: 0.5451 - acc: 0.7151\n",
      "Epoch 84/150\n",
      "32682/32682 [==============================] - 5s 151us/step - loss: 0.5447 - acc: 0.7149\n",
      "Epoch 85/150\n",
      "32682/32682 [==============================] - 4s 131us/step - loss: 0.5449 - acc: 0.7155\n",
      "Epoch 86/150\n",
      "32682/32682 [==============================] - 4s 124us/step - loss: 0.5446 - acc: 0.7146\n",
      "Epoch 87/150\n",
      "32682/32682 [==============================] - 5s 144us/step - loss: 0.5446 - acc: 0.7148\n",
      "Epoch 88/150\n",
      "32682/32682 [==============================] - 4s 124us/step - loss: 0.5448 - acc: 0.7149\n",
      "Epoch 89/150\n",
      "32682/32682 [==============================] - 3s 98us/step - loss: 0.5447 - acc: 0.7150\n",
      "Epoch 90/150\n",
      "32682/32682 [==============================] - ETA: 0s - loss: 0.5446 - acc: 0.713 - 4s 118us/step - loss: 0.5445 - acc: 0.7138\n",
      "Epoch 91/150\n",
      "32682/32682 [==============================] - 3s 95us/step - loss: 0.5449 - acc: 0.7146\n",
      "Epoch 92/150\n",
      "32682/32682 [==============================] - 4s 118us/step - loss: 0.5448 - acc: 0.7153\n",
      "Epoch 93/150\n",
      "32682/32682 [==============================] - 5s 161us/step - loss: 0.5449 - acc: 0.7130\n",
      "Epoch 94/150\n",
      "32682/32682 [==============================] - 3s 102us/step - loss: 0.5445 - acc: 0.7154\n",
      "Epoch 95/150\n",
      "32682/32682 [==============================] - 3s 90us/step - loss: 0.5445 - acc: 0.7159\n",
      "Epoch 96/150\n",
      "32682/32682 [==============================] - 3s 93us/step - loss: 0.5441 - acc: 0.7153\n",
      "Epoch 97/150\n",
      "32682/32682 [==============================] - 3s 90us/step - loss: 0.5443 - acc: 0.7130\n",
      "Epoch 98/150\n",
      "32682/32682 [==============================] - 3s 97us/step - loss: 0.5446 - acc: 0.7158\n",
      "Epoch 99/150\n",
      "32682/32682 [==============================] - 3s 88us/step - loss: 0.5441 - acc: 0.7155\n",
      "Epoch 100/150\n",
      "32682/32682 [==============================] - 3s 88us/step - loss: 0.5446 - acc: 0.7157\n",
      "Epoch 101/150\n",
      "32682/32682 [==============================] - 3s 91us/step - loss: 0.5444 - acc: 0.7156\n",
      "Epoch 102/150\n",
      "32682/32682 [==============================] - 3s 88us/step - loss: 0.5444 - acc: 0.7145\n",
      "Epoch 103/150\n",
      "32682/32682 [==============================] - 3s 99us/step - loss: 0.5444 - acc: 0.7163\n",
      "Epoch 104/150\n",
      "32682/32682 [==============================] - 4s 115us/step - loss: 0.5444 - acc: 0.7159\n",
      "Epoch 105/150\n",
      "32682/32682 [==============================] - 5s 149us/step - loss: 0.5440 - acc: 0.7152\n",
      "Epoch 106/150\n",
      "32682/32682 [==============================] - 3s 90us/step - loss: 0.5446 - acc: 0.7140\n",
      "Epoch 107/150\n",
      "32682/32682 [==============================] - 3s 88us/step - loss: 0.5444 - acc: 0.7160\n",
      "Epoch 108/150\n",
      "32682/32682 [==============================] - 3s 107us/step - loss: 0.5443 - acc: 0.7166\n",
      "Epoch 109/150\n",
      "32682/32682 [==============================] - 3s 104us/step - loss: 0.5443 - acc: 0.7148\n",
      "Epoch 110/150\n",
      "32682/32682 [==============================] - 3s 93us/step - loss: 0.5439 - acc: 0.7160\n",
      "Epoch 111/150\n",
      "32682/32682 [==============================] - 3s 91us/step - loss: 0.5440 - acc: 0.7152\n",
      "Epoch 112/150\n",
      "32682/32682 [==============================] - 3s 89us/step - loss: 0.5438 - acc: 0.7155\n",
      "Epoch 113/150\n",
      "32682/32682 [==============================] - 3s 104us/step - loss: 0.5441 - acc: 0.7147\n",
      "Epoch 114/150\n",
      "32682/32682 [==============================] - 3s 91us/step - loss: 0.5440 - acc: 0.7171\n",
      "Epoch 115/150\n",
      "32682/32682 [==============================] - 3s 93us/step - loss: 0.5445 - acc: 0.7157\n",
      "Epoch 116/150\n",
      "32682/32682 [==============================] - 3s 88us/step - loss: 0.5442 - acc: 0.7157\n",
      "Epoch 117/150\n",
      "32682/32682 [==============================] - 3s 90us/step - loss: 0.5445 - acc: 0.7153\n",
      "Epoch 118/150\n",
      "32682/32682 [==============================] - 4s 126us/step - loss: 0.5440 - acc: 0.7163\n",
      "Epoch 119/150\n",
      "32682/32682 [==============================] - 4s 137us/step - loss: 0.5441 - acc: 0.7150\n",
      "Epoch 120/150\n",
      "32682/32682 [==============================] - 4s 123us/step - loss: 0.5444 - acc: 0.7151\n",
      "Epoch 121/150\n",
      "32682/32682 [==============================] - 4s 129us/step - loss: 0.5439 - acc: 0.7161\n",
      "Epoch 122/150\n",
      "32682/32682 [==============================] - 5s 157us/step - loss: 0.5441 - acc: 0.7151\n",
      "Epoch 123/150\n",
      "32682/32682 [==============================] - 5s 139us/step - loss: 0.5440 - acc: 0.7170\n",
      "Epoch 124/150\n",
      "32682/32682 [==============================] - 4s 132us/step - loss: 0.5442 - acc: 0.7164\n",
      "Epoch 125/150\n",
      "32682/32682 [==============================] - 5s 139us/step - loss: 0.5441 - acc: 0.7161\n",
      "Epoch 126/150\n",
      "32682/32682 [==============================] - 4s 128us/step - loss: 0.5439 - acc: 0.7158\n",
      "Epoch 127/150\n",
      "32682/32682 [==============================] - 4s 126us/step - loss: 0.5442 - acc: 0.7160\n",
      "Epoch 128/150\n",
      "32682/32682 [==============================] - 4s 119us/step - loss: 0.5438 - acc: 0.7158\n",
      "Epoch 129/150\n",
      "32682/32682 [==============================] - 4s 125us/step - loss: 0.5441 - acc: 0.7159\n",
      "Epoch 130/150\n",
      "32682/32682 [==============================] - 5s 139us/step - loss: 0.5443 - acc: 0.7163\n",
      "Epoch 131/150\n",
      "32682/32682 [==============================] - 4s 128us/step - loss: 0.5436 - acc: 0.7175\n",
      "Epoch 132/150\n",
      "32682/32682 [==============================] - 3s 92us/step - loss: 0.5437 - acc: 0.7156\n",
      "Epoch 133/150\n",
      "32682/32682 [==============================] - 4s 111us/step - loss: 0.5438 - acc: 0.7166\n",
      "Epoch 134/150\n",
      "32682/32682 [==============================] - 3s 93us/step - loss: 0.5439 - acc: 0.7168\n",
      "Epoch 135/150\n",
      "32682/32682 [==============================] - 4s 135us/step - loss: 0.5437 - acc: 0.7148\n",
      "Epoch 136/150\n",
      "32682/32682 [==============================] - 4s 112us/step - loss: 0.5437 - acc: 0.7164\n",
      "Epoch 137/150\n",
      "32682/32682 [==============================] - 3s 93us/step - loss: 0.5439 - acc: 0.7157\n",
      "Epoch 138/150\n",
      "32682/32682 [==============================] - 4s 129us/step - loss: 0.5439 - acc: 0.7169\n",
      "Epoch 139/150\n",
      "32682/32682 [==============================] - 5s 138us/step - loss: 0.5438 - acc: 0.7146\n",
      "Epoch 140/150\n",
      "32682/32682 [==============================] - 4s 131us/step - loss: 0.5431 - acc: 0.7175\n",
      "Epoch 141/150\n",
      "32682/32682 [==============================] - 4s 136us/step - loss: 0.5435 - acc: 0.7155\n",
      "Epoch 142/150\n",
      "32682/32682 [==============================] - 5s 143us/step - loss: 0.5439 - acc: 0.7165\n",
      "Epoch 143/150\n",
      "32682/32682 [==============================] - 5s 160us/step - loss: 0.5439 - acc: 0.7141\n",
      "Epoch 144/150\n",
      "32682/32682 [==============================] - 4s 116us/step - loss: 0.5438 - acc: 0.7161\n",
      "Epoch 145/150\n",
      "32682/32682 [==============================] - 4s 113us/step - loss: 0.5440 - acc: 0.7151\n",
      "Epoch 146/150\n",
      "32682/32682 [==============================] - 3s 102us/step - loss: 0.5433 - acc: 0.7170\n",
      "Epoch 147/150\n",
      "32682/32682 [==============================] - 5s 148us/step - loss: 0.5438 - acc: 0.7148\n",
      "Epoch 148/150\n",
      "32682/32682 [==============================] - 4s 123us/step - loss: 0.5439 - acc: 0.7165\n",
      "Epoch 149/150\n",
      "32682/32682 [==============================] - 3s 98us/step - loss: 0.5435 - acc: 0.7148\n",
      "Epoch 150/150\n",
      "32682/32682 [==============================] - 3s 94us/step - loss: 0.5439 - acc: 0.7135\n"
     ]
    },
    {
     "data": {
      "text/plain": [
       "<keras.callbacks.History at 0x159882d6438>"
      ]
     },
     "execution_count": 24,
     "metadata": {},
     "output_type": "execute_result"
    }
   ],
   "source": [
    "#run the neural network\n",
    "model.fit(X_train, y_train, epochs=150, batch_size=10)"
   ]
  },
  {
   "cell_type": "code",
   "execution_count": 31,
   "metadata": {},
   "outputs": [
    {
     "name": "stdout",
     "output_type": "stream",
     "text": [
      "Accuracy = 0.7368778280542987\n",
      "Cohen's Kappa = 0.33779048058518113\n",
      "Recall = 0.7587925388010821\n",
      "ROC area under curve = 0.7054832259222801\n"
     ]
    }
   ],
   "source": [
    "#make predictions and round answers\n",
    "y_pred = model.predict(X_test)\n",
    "rounded = [round(x[0]) for x in y_pred]\n",
    "y_pred = np.array(rounded, dtype = 'int64')\n",
    "\n",
    "print(\"Accuracy =\", metrics.accuracy_score(y_test, y_pred))\n",
    "print(\"Cohen's Kappa =\", cohen_kappa_score(y_test, y_pred))\n",
    "print(\"Recall =\", recall_score(y_test, y_pred))\n",
    "print(\"ROC area under curve =\", roc_auc_score(y_test, y_pred))"
   ]
  }
 ],
 "metadata": {
  "kernelspec": {
   "display_name": "Python 3",
   "language": "python",
   "name": "python3"
  },
  "language_info": {
   "codemirror_mode": {
    "name": "ipython",
    "version": 3
   },
   "file_extension": ".py",
   "mimetype": "text/x-python",
   "name": "python",
   "nbconvert_exporter": "python",
   "pygments_lexer": "ipython3",
   "version": "3.7.0"
  }
 },
 "nbformat": 4,
 "nbformat_minor": 2
}
