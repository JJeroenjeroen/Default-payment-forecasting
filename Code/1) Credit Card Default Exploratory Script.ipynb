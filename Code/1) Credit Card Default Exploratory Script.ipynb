{
 "cells": [
  {
   "cell_type": "markdown",
   "metadata": {},
   "source": [
    "# Predicting Credit card defaulters\n",
    "\n",
    "\n",
    "#### For more information regarding this dataset, visit: <br />https://www.kaggle.com/uciml/default-of-credit-card-clients-dataset\n",
    "\n",
    "This script will contain an initial exploration of the data, followed by some necessary preprocessing, <br />feature enineering and selection, and finally the models and results.\n",
    "\n",
    "Let's start by importing the libraries used in the exploratory part:"
   ]
  },
  {
   "cell_type": "code",
   "execution_count": 1,
   "metadata": {},
   "outputs": [],
   "source": [
    "import pandas as pd\n",
    "import matplotlib.pyplot as plt\n",
    "import numpy as np\n",
    "import pylab\n",
    "import seaborn as sns \n",
    "import math\n",
    "from sklearn import preprocessing\n",
    "\n",
    "# Set default matplot figure size\n",
    "pylab.rcParams['figure.figsize'] = (10.0, 8.0)\n",
    "\n",
    "#Turn off pandas warning for changing variables\n",
    "pd.options.mode.chained_assignment = None"
   ]
  },
  {
   "cell_type": "code",
   "execution_count": 2,
   "metadata": {},
   "outputs": [],
   "source": [
    "credit = pd.read_csv(\"C:\\\\Users\\\\Jeroen\\\\Desktop\\\\Ubiqum\\\\Data Science\\\\Excel Files\\\\default of credit card clients.csv\", header = 1)"
   ]
  },
  {
   "cell_type": "markdown",
   "metadata": {},
   "source": [
    "\n",
    "##### First look\n",
    "\n",
    "First, Let's see how the data exactly looks like, and whether there are some unlogical values observable in the first glimpse:\n",
    "<br />\n",
    "<br />"
   ]
  },
  {
   "cell_type": "code",
   "execution_count": 3,
   "metadata": {},
   "outputs": [
    {
     "data": {
      "text/html": [
       "<div>\n",
       "<style scoped>\n",
       "    .dataframe tbody tr th:only-of-type {\n",
       "        vertical-align: middle;\n",
       "    }\n",
       "\n",
       "    .dataframe tbody tr th {\n",
       "        vertical-align: top;\n",
       "    }\n",
       "\n",
       "    .dataframe thead th {\n",
       "        text-align: right;\n",
       "    }\n",
       "</style>\n",
       "<table border=\"1\" class=\"dataframe\">\n",
       "  <thead>\n",
       "    <tr style=\"text-align: right;\">\n",
       "      <th></th>\n",
       "      <th>ID</th>\n",
       "      <th>LIMIT_BAL</th>\n",
       "      <th>SEX</th>\n",
       "      <th>EDUCATION</th>\n",
       "      <th>MARRIAGE</th>\n",
       "      <th>AGE</th>\n",
       "      <th>PAY_0</th>\n",
       "      <th>PAY_2</th>\n",
       "      <th>PAY_3</th>\n",
       "      <th>PAY_4</th>\n",
       "      <th>...</th>\n",
       "      <th>BILL_AMT4</th>\n",
       "      <th>BILL_AMT5</th>\n",
       "      <th>BILL_AMT6</th>\n",
       "      <th>PAY_AMT1</th>\n",
       "      <th>PAY_AMT2</th>\n",
       "      <th>PAY_AMT3</th>\n",
       "      <th>PAY_AMT4</th>\n",
       "      <th>PAY_AMT5</th>\n",
       "      <th>PAY_AMT6</th>\n",
       "      <th>default payment next month</th>\n",
       "    </tr>\n",
       "  </thead>\n",
       "  <tbody>\n",
       "    <tr>\n",
       "      <th>0</th>\n",
       "      <td>1</td>\n",
       "      <td>20000</td>\n",
       "      <td>2</td>\n",
       "      <td>2</td>\n",
       "      <td>1</td>\n",
       "      <td>24</td>\n",
       "      <td>2</td>\n",
       "      <td>2</td>\n",
       "      <td>-1</td>\n",
       "      <td>-1</td>\n",
       "      <td>...</td>\n",
       "      <td>0</td>\n",
       "      <td>0</td>\n",
       "      <td>0</td>\n",
       "      <td>0</td>\n",
       "      <td>689</td>\n",
       "      <td>0</td>\n",
       "      <td>0</td>\n",
       "      <td>0</td>\n",
       "      <td>0</td>\n",
       "      <td>1</td>\n",
       "    </tr>\n",
       "    <tr>\n",
       "      <th>1</th>\n",
       "      <td>2</td>\n",
       "      <td>120000</td>\n",
       "      <td>2</td>\n",
       "      <td>2</td>\n",
       "      <td>2</td>\n",
       "      <td>26</td>\n",
       "      <td>-1</td>\n",
       "      <td>2</td>\n",
       "      <td>0</td>\n",
       "      <td>0</td>\n",
       "      <td>...</td>\n",
       "      <td>3272</td>\n",
       "      <td>3455</td>\n",
       "      <td>3261</td>\n",
       "      <td>0</td>\n",
       "      <td>1000</td>\n",
       "      <td>1000</td>\n",
       "      <td>1000</td>\n",
       "      <td>0</td>\n",
       "      <td>2000</td>\n",
       "      <td>1</td>\n",
       "    </tr>\n",
       "    <tr>\n",
       "      <th>2</th>\n",
       "      <td>3</td>\n",
       "      <td>90000</td>\n",
       "      <td>2</td>\n",
       "      <td>2</td>\n",
       "      <td>2</td>\n",
       "      <td>34</td>\n",
       "      <td>0</td>\n",
       "      <td>0</td>\n",
       "      <td>0</td>\n",
       "      <td>0</td>\n",
       "      <td>...</td>\n",
       "      <td>14331</td>\n",
       "      <td>14948</td>\n",
       "      <td>15549</td>\n",
       "      <td>1518</td>\n",
       "      <td>1500</td>\n",
       "      <td>1000</td>\n",
       "      <td>1000</td>\n",
       "      <td>1000</td>\n",
       "      <td>5000</td>\n",
       "      <td>0</td>\n",
       "    </tr>\n",
       "    <tr>\n",
       "      <th>3</th>\n",
       "      <td>4</td>\n",
       "      <td>50000</td>\n",
       "      <td>2</td>\n",
       "      <td>2</td>\n",
       "      <td>1</td>\n",
       "      <td>37</td>\n",
       "      <td>0</td>\n",
       "      <td>0</td>\n",
       "      <td>0</td>\n",
       "      <td>0</td>\n",
       "      <td>...</td>\n",
       "      <td>28314</td>\n",
       "      <td>28959</td>\n",
       "      <td>29547</td>\n",
       "      <td>2000</td>\n",
       "      <td>2019</td>\n",
       "      <td>1200</td>\n",
       "      <td>1100</td>\n",
       "      <td>1069</td>\n",
       "      <td>1000</td>\n",
       "      <td>0</td>\n",
       "    </tr>\n",
       "    <tr>\n",
       "      <th>4</th>\n",
       "      <td>5</td>\n",
       "      <td>50000</td>\n",
       "      <td>1</td>\n",
       "      <td>2</td>\n",
       "      <td>1</td>\n",
       "      <td>57</td>\n",
       "      <td>-1</td>\n",
       "      <td>0</td>\n",
       "      <td>-1</td>\n",
       "      <td>0</td>\n",
       "      <td>...</td>\n",
       "      <td>20940</td>\n",
       "      <td>19146</td>\n",
       "      <td>19131</td>\n",
       "      <td>2000</td>\n",
       "      <td>36681</td>\n",
       "      <td>10000</td>\n",
       "      <td>9000</td>\n",
       "      <td>689</td>\n",
       "      <td>679</td>\n",
       "      <td>0</td>\n",
       "    </tr>\n",
       "  </tbody>\n",
       "</table>\n",
       "<p>5 rows × 25 columns</p>\n",
       "</div>"
      ],
      "text/plain": [
       "   ID  LIMIT_BAL  SEX  EDUCATION  MARRIAGE  AGE  PAY_0  PAY_2  PAY_3  PAY_4  \\\n",
       "0   1      20000    2          2         1   24      2      2     -1     -1   \n",
       "1   2     120000    2          2         2   26     -1      2      0      0   \n",
       "2   3      90000    2          2         2   34      0      0      0      0   \n",
       "3   4      50000    2          2         1   37      0      0      0      0   \n",
       "4   5      50000    1          2         1   57     -1      0     -1      0   \n",
       "\n",
       "              ...              BILL_AMT4  BILL_AMT5  BILL_AMT6  PAY_AMT1  \\\n",
       "0             ...                      0          0          0         0   \n",
       "1             ...                   3272       3455       3261         0   \n",
       "2             ...                  14331      14948      15549      1518   \n",
       "3             ...                  28314      28959      29547      2000   \n",
       "4             ...                  20940      19146      19131      2000   \n",
       "\n",
       "   PAY_AMT2  PAY_AMT3  PAY_AMT4  PAY_AMT5  PAY_AMT6  \\\n",
       "0       689         0         0         0         0   \n",
       "1      1000      1000      1000         0      2000   \n",
       "2      1500      1000      1000      1000      5000   \n",
       "3      2019      1200      1100      1069      1000   \n",
       "4     36681     10000      9000       689       679   \n",
       "\n",
       "   default payment next month  \n",
       "0                           1  \n",
       "1                           1  \n",
       "2                           0  \n",
       "3                           0  \n",
       "4                           0  \n",
       "\n",
       "[5 rows x 25 columns]"
      ]
     },
     "execution_count": 3,
     "metadata": {},
     "output_type": "execute_result"
    }
   ],
   "source": [
    "credit.head()"
   ]
  },
  {
   "cell_type": "markdown",
   "metadata": {},
   "source": [
    "\n",
    "#### Weird values\n",
    "We see that there are certain values that have not been \n",
    "mentioned by the authors (-2's and 0's for the Pay_N variables.)\n",
    "\n",
    "These will be dealt with in a later stage. First switch order of columns and rename column names so it all makes a bit more sense\n",
    "<br />\n",
    "<br />\n"
   ]
  },
  {
   "cell_type": "code",
   "execution_count": 4,
   "metadata": {},
   "outputs": [],
   "source": [
    "#Change columns order \n",
    "\n",
    "colnames = credit.columns.tolist()\n",
    "colnames =  ['ID', 'LIMIT_BAL', 'SEX', 'EDUCATION', 'MARRIAGE', 'AGE', 'PAY_6', 'PAY_5', 'PAY_4', 'PAY_3', 'PAY_2', 'PAY_0', 'BILL_AMT6', 'BILL_AMT5', 'BILL_AMT4', 'BILL_AMT3', 'BILL_AMT2', 'BILL_AMT1', 'PAY_AMT6', 'PAY_AMT5', 'PAY_AMT4', 'PAY_AMT3', 'PAY_AMT2', 'PAY_AMT1', 'default payment next month']\n",
    "credit = credit[colnames]\n",
    "\n",
    "#rename some columns so their name makes more sense\n",
    "credit.columns = ['ID', 'CREDIT', 'SEX', 'EDUCATION', 'MARRIAGE', 'AGE', 'PAYSTAT_APR', 'PAYSTAT_MAY', 'PAYSTAT_JUNE', 'PAYSTAT_JULY', 'PAYSTAT_AUG', 'PAYSTAT_SEP', 'CUR_BIL_APR', 'CUR_BIL_MAY', 'CUR_BIL_JUNE', 'CUR_BIL_JULY', 'CUR_BIL_AUG', 'CUR_BIL_SEP', 'PAID_APR', 'PAID_MAY', 'PAID_JUNE', 'PAID_JULY', 'PAID_AUG', 'PAID_SEP', 'DEFAULT']\n"
   ]
  },
  {
   "cell_type": "markdown",
   "metadata": {},
   "source": [
    "###### Names and stuff\n",
    "Now that's out the the way, lets change the numbers of categorical values to their respective category for more convenience<br /> during the exploration of the data"
   ]
  },
  {
   "cell_type": "code",
   "execution_count": 5,
   "metadata": {},
   "outputs": [],
   "source": [
    "#Change values to their actual respective values\n",
    "#Default status\n",
    "credit.DEFAULT[credit.DEFAULT == 0] = 'Pays'\n",
    "credit.DEFAULT[credit.DEFAULT== 1] = 'Defaults'\n",
    "\n",
    "\n",
    "#Sex\n",
    "credit.SEX[credit.SEX == 1] = 'Male'\n",
    "credit.SEX[credit.SEX == 2] = 'Female'\n",
    "\n",
    "#Marriage\n",
    "credit.MARRIAGE[credit.MARRIAGE == 0] = 'Other'\n",
    "credit.MARRIAGE[credit.MARRIAGE == 1] = 'Single'\n",
    "credit.MARRIAGE[credit.MARRIAGE == 2] = 'Married'\n",
    "credit.MARRIAGE[credit.MARRIAGE == 3] = 'Other'\n",
    "\n",
    "#Education\n",
    "credit.EDUCATION[credit.EDUCATION == 0] = 'Other'\n",
    "credit.EDUCATION[credit.EDUCATION == 1] = 'Graduate School'\n",
    "credit.EDUCATION[credit.EDUCATION == 2] = 'University'\n",
    "credit.EDUCATION[credit.EDUCATION == 3] = 'High School'\n",
    "credit.EDUCATION[credit.EDUCATION == 4] = 'Other'\n",
    "credit.EDUCATION[credit.EDUCATION == 5] = 'Other'\n",
    "credit.EDUCATION[credit.EDUCATION == 6] = 'Other'\n"
   ]
  },
  {
   "cell_type": "code",
   "execution_count": 6,
   "metadata": {},
   "outputs": [
    {
     "data": {
      "text/html": [
       "<div>\n",
       "<style scoped>\n",
       "    .dataframe tbody tr th:only-of-type {\n",
       "        vertical-align: middle;\n",
       "    }\n",
       "\n",
       "    .dataframe tbody tr th {\n",
       "        vertical-align: top;\n",
       "    }\n",
       "\n",
       "    .dataframe thead th {\n",
       "        text-align: right;\n",
       "    }\n",
       "</style>\n",
       "<table border=\"1\" class=\"dataframe\">\n",
       "  <thead>\n",
       "    <tr style=\"text-align: right;\">\n",
       "      <th></th>\n",
       "      <th>ID</th>\n",
       "      <th>CREDIT</th>\n",
       "      <th>AGE</th>\n",
       "      <th>PAYSTAT_APR</th>\n",
       "      <th>PAYSTAT_MAY</th>\n",
       "      <th>PAYSTAT_JUNE</th>\n",
       "      <th>PAYSTAT_JULY</th>\n",
       "      <th>PAYSTAT_AUG</th>\n",
       "      <th>PAYSTAT_SEP</th>\n",
       "      <th>CUR_BIL_APR</th>\n",
       "      <th>...</th>\n",
       "      <th>CUR_BIL_JUNE</th>\n",
       "      <th>CUR_BIL_JULY</th>\n",
       "      <th>CUR_BIL_AUG</th>\n",
       "      <th>CUR_BIL_SEP</th>\n",
       "      <th>PAID_APR</th>\n",
       "      <th>PAID_MAY</th>\n",
       "      <th>PAID_JUNE</th>\n",
       "      <th>PAID_JULY</th>\n",
       "      <th>PAID_AUG</th>\n",
       "      <th>PAID_SEP</th>\n",
       "    </tr>\n",
       "  </thead>\n",
       "  <tbody>\n",
       "    <tr>\n",
       "      <th>count</th>\n",
       "      <td>30000.000000</td>\n",
       "      <td>30000.000000</td>\n",
       "      <td>30000.000000</td>\n",
       "      <td>30000.000000</td>\n",
       "      <td>30000.000000</td>\n",
       "      <td>30000.000000</td>\n",
       "      <td>30000.000000</td>\n",
       "      <td>30000.000000</td>\n",
       "      <td>30000.000000</td>\n",
       "      <td>30000.000000</td>\n",
       "      <td>...</td>\n",
       "      <td>30000.000000</td>\n",
       "      <td>3.000000e+04</td>\n",
       "      <td>30000.000000</td>\n",
       "      <td>30000.000000</td>\n",
       "      <td>30000.000000</td>\n",
       "      <td>30000.000000</td>\n",
       "      <td>30000.000000</td>\n",
       "      <td>30000.00000</td>\n",
       "      <td>3.000000e+04</td>\n",
       "      <td>30000.000000</td>\n",
       "    </tr>\n",
       "    <tr>\n",
       "      <th>mean</th>\n",
       "      <td>15000.500000</td>\n",
       "      <td>167484.322667</td>\n",
       "      <td>35.485500</td>\n",
       "      <td>-0.291100</td>\n",
       "      <td>-0.266200</td>\n",
       "      <td>-0.220667</td>\n",
       "      <td>-0.166200</td>\n",
       "      <td>-0.133767</td>\n",
       "      <td>-0.016700</td>\n",
       "      <td>38871.760400</td>\n",
       "      <td>...</td>\n",
       "      <td>43262.948967</td>\n",
       "      <td>4.701315e+04</td>\n",
       "      <td>49179.075167</td>\n",
       "      <td>51223.330900</td>\n",
       "      <td>5215.502567</td>\n",
       "      <td>4799.387633</td>\n",
       "      <td>4826.076867</td>\n",
       "      <td>5225.68150</td>\n",
       "      <td>5.921163e+03</td>\n",
       "      <td>5663.580500</td>\n",
       "    </tr>\n",
       "    <tr>\n",
       "      <th>std</th>\n",
       "      <td>8660.398374</td>\n",
       "      <td>129747.661567</td>\n",
       "      <td>9.217904</td>\n",
       "      <td>1.149988</td>\n",
       "      <td>1.133187</td>\n",
       "      <td>1.169139</td>\n",
       "      <td>1.196868</td>\n",
       "      <td>1.197186</td>\n",
       "      <td>1.123802</td>\n",
       "      <td>59554.107537</td>\n",
       "      <td>...</td>\n",
       "      <td>64332.856134</td>\n",
       "      <td>6.934939e+04</td>\n",
       "      <td>71173.768783</td>\n",
       "      <td>73635.860576</td>\n",
       "      <td>17777.465775</td>\n",
       "      <td>15278.305679</td>\n",
       "      <td>15666.159744</td>\n",
       "      <td>17606.96147</td>\n",
       "      <td>2.304087e+04</td>\n",
       "      <td>16563.280354</td>\n",
       "    </tr>\n",
       "    <tr>\n",
       "      <th>min</th>\n",
       "      <td>1.000000</td>\n",
       "      <td>10000.000000</td>\n",
       "      <td>21.000000</td>\n",
       "      <td>-2.000000</td>\n",
       "      <td>-2.000000</td>\n",
       "      <td>-2.000000</td>\n",
       "      <td>-2.000000</td>\n",
       "      <td>-2.000000</td>\n",
       "      <td>-2.000000</td>\n",
       "      <td>-339603.000000</td>\n",
       "      <td>...</td>\n",
       "      <td>-170000.000000</td>\n",
       "      <td>-1.572640e+05</td>\n",
       "      <td>-69777.000000</td>\n",
       "      <td>-165580.000000</td>\n",
       "      <td>0.000000</td>\n",
       "      <td>0.000000</td>\n",
       "      <td>0.000000</td>\n",
       "      <td>0.00000</td>\n",
       "      <td>0.000000e+00</td>\n",
       "      <td>0.000000</td>\n",
       "    </tr>\n",
       "    <tr>\n",
       "      <th>25%</th>\n",
       "      <td>7500.750000</td>\n",
       "      <td>50000.000000</td>\n",
       "      <td>28.000000</td>\n",
       "      <td>-1.000000</td>\n",
       "      <td>-1.000000</td>\n",
       "      <td>-1.000000</td>\n",
       "      <td>-1.000000</td>\n",
       "      <td>-1.000000</td>\n",
       "      <td>-1.000000</td>\n",
       "      <td>1256.000000</td>\n",
       "      <td>...</td>\n",
       "      <td>2326.750000</td>\n",
       "      <td>2.666250e+03</td>\n",
       "      <td>2984.750000</td>\n",
       "      <td>3558.750000</td>\n",
       "      <td>117.750000</td>\n",
       "      <td>252.500000</td>\n",
       "      <td>296.000000</td>\n",
       "      <td>390.00000</td>\n",
       "      <td>8.330000e+02</td>\n",
       "      <td>1000.000000</td>\n",
       "    </tr>\n",
       "    <tr>\n",
       "      <th>50%</th>\n",
       "      <td>15000.500000</td>\n",
       "      <td>140000.000000</td>\n",
       "      <td>34.000000</td>\n",
       "      <td>0.000000</td>\n",
       "      <td>0.000000</td>\n",
       "      <td>0.000000</td>\n",
       "      <td>0.000000</td>\n",
       "      <td>0.000000</td>\n",
       "      <td>0.000000</td>\n",
       "      <td>17071.000000</td>\n",
       "      <td>...</td>\n",
       "      <td>19052.000000</td>\n",
       "      <td>2.008850e+04</td>\n",
       "      <td>21200.000000</td>\n",
       "      <td>22381.500000</td>\n",
       "      <td>1500.000000</td>\n",
       "      <td>1500.000000</td>\n",
       "      <td>1500.000000</td>\n",
       "      <td>1800.00000</td>\n",
       "      <td>2.009000e+03</td>\n",
       "      <td>2100.000000</td>\n",
       "    </tr>\n",
       "    <tr>\n",
       "      <th>75%</th>\n",
       "      <td>22500.250000</td>\n",
       "      <td>240000.000000</td>\n",
       "      <td>41.000000</td>\n",
       "      <td>0.000000</td>\n",
       "      <td>0.000000</td>\n",
       "      <td>0.000000</td>\n",
       "      <td>0.000000</td>\n",
       "      <td>0.000000</td>\n",
       "      <td>0.000000</td>\n",
       "      <td>49198.250000</td>\n",
       "      <td>...</td>\n",
       "      <td>54506.000000</td>\n",
       "      <td>6.016475e+04</td>\n",
       "      <td>64006.250000</td>\n",
       "      <td>67091.000000</td>\n",
       "      <td>4000.000000</td>\n",
       "      <td>4031.500000</td>\n",
       "      <td>4013.250000</td>\n",
       "      <td>4505.00000</td>\n",
       "      <td>5.000000e+03</td>\n",
       "      <td>5006.000000</td>\n",
       "    </tr>\n",
       "    <tr>\n",
       "      <th>max</th>\n",
       "      <td>30000.000000</td>\n",
       "      <td>1000000.000000</td>\n",
       "      <td>79.000000</td>\n",
       "      <td>8.000000</td>\n",
       "      <td>8.000000</td>\n",
       "      <td>8.000000</td>\n",
       "      <td>8.000000</td>\n",
       "      <td>8.000000</td>\n",
       "      <td>8.000000</td>\n",
       "      <td>961664.000000</td>\n",
       "      <td>...</td>\n",
       "      <td>891586.000000</td>\n",
       "      <td>1.664089e+06</td>\n",
       "      <td>983931.000000</td>\n",
       "      <td>964511.000000</td>\n",
       "      <td>528666.000000</td>\n",
       "      <td>426529.000000</td>\n",
       "      <td>621000.000000</td>\n",
       "      <td>896040.00000</td>\n",
       "      <td>1.684259e+06</td>\n",
       "      <td>873552.000000</td>\n",
       "    </tr>\n",
       "  </tbody>\n",
       "</table>\n",
       "<p>8 rows × 21 columns</p>\n",
       "</div>"
      ],
      "text/plain": [
       "                 ID          CREDIT           AGE   PAYSTAT_APR   PAYSTAT_MAY  \\\n",
       "count  30000.000000    30000.000000  30000.000000  30000.000000  30000.000000   \n",
       "mean   15000.500000   167484.322667     35.485500     -0.291100     -0.266200   \n",
       "std     8660.398374   129747.661567      9.217904      1.149988      1.133187   \n",
       "min        1.000000    10000.000000     21.000000     -2.000000     -2.000000   \n",
       "25%     7500.750000    50000.000000     28.000000     -1.000000     -1.000000   \n",
       "50%    15000.500000   140000.000000     34.000000      0.000000      0.000000   \n",
       "75%    22500.250000   240000.000000     41.000000      0.000000      0.000000   \n",
       "max    30000.000000  1000000.000000     79.000000      8.000000      8.000000   \n",
       "\n",
       "       PAYSTAT_JUNE  PAYSTAT_JULY   PAYSTAT_AUG   PAYSTAT_SEP    CUR_BIL_APR  \\\n",
       "count  30000.000000  30000.000000  30000.000000  30000.000000   30000.000000   \n",
       "mean      -0.220667     -0.166200     -0.133767     -0.016700   38871.760400   \n",
       "std        1.169139      1.196868      1.197186      1.123802   59554.107537   \n",
       "min       -2.000000     -2.000000     -2.000000     -2.000000 -339603.000000   \n",
       "25%       -1.000000     -1.000000     -1.000000     -1.000000    1256.000000   \n",
       "50%        0.000000      0.000000      0.000000      0.000000   17071.000000   \n",
       "75%        0.000000      0.000000      0.000000      0.000000   49198.250000   \n",
       "max        8.000000      8.000000      8.000000      8.000000  961664.000000   \n",
       "\n",
       "           ...         CUR_BIL_JUNE  CUR_BIL_JULY    CUR_BIL_AUG  \\\n",
       "count      ...         30000.000000  3.000000e+04   30000.000000   \n",
       "mean       ...         43262.948967  4.701315e+04   49179.075167   \n",
       "std        ...         64332.856134  6.934939e+04   71173.768783   \n",
       "min        ...       -170000.000000 -1.572640e+05  -69777.000000   \n",
       "25%        ...          2326.750000  2.666250e+03    2984.750000   \n",
       "50%        ...         19052.000000  2.008850e+04   21200.000000   \n",
       "75%        ...         54506.000000  6.016475e+04   64006.250000   \n",
       "max        ...        891586.000000  1.664089e+06  983931.000000   \n",
       "\n",
       "         CUR_BIL_SEP       PAID_APR       PAID_MAY      PAID_JUNE  \\\n",
       "count   30000.000000   30000.000000   30000.000000   30000.000000   \n",
       "mean    51223.330900    5215.502567    4799.387633    4826.076867   \n",
       "std     73635.860576   17777.465775   15278.305679   15666.159744   \n",
       "min   -165580.000000       0.000000       0.000000       0.000000   \n",
       "25%      3558.750000     117.750000     252.500000     296.000000   \n",
       "50%     22381.500000    1500.000000    1500.000000    1500.000000   \n",
       "75%     67091.000000    4000.000000    4031.500000    4013.250000   \n",
       "max    964511.000000  528666.000000  426529.000000  621000.000000   \n",
       "\n",
       "          PAID_JULY      PAID_AUG       PAID_SEP  \n",
       "count   30000.00000  3.000000e+04   30000.000000  \n",
       "mean     5225.68150  5.921163e+03    5663.580500  \n",
       "std     17606.96147  2.304087e+04   16563.280354  \n",
       "min         0.00000  0.000000e+00       0.000000  \n",
       "25%       390.00000  8.330000e+02    1000.000000  \n",
       "50%      1800.00000  2.009000e+03    2100.000000  \n",
       "75%      4505.00000  5.000000e+03    5006.000000  \n",
       "max    896040.00000  1.684259e+06  873552.000000  \n",
       "\n",
       "[8 rows x 21 columns]"
      ]
     },
     "execution_count": 6,
     "metadata": {},
     "output_type": "execute_result"
    }
   ],
   "source": [
    "#description of the data\n",
    "credit.describe()"
   ]
  },
  {
   "cell_type": "markdown",
   "metadata": {},
   "source": [
    "##### Interesting facts \n",
    "- The standard deviation of credit supplied is super high. This is also the case for the bills and the paid amounts.\n",
    "\n",
    "- The min for the bills are very large negative numbers. Did they pay too much money back?"
   ]
  },
  {
   "cell_type": "code",
   "execution_count": 7,
   "metadata": {},
   "outputs": [
    {
     "name": "stdout",
     "output_type": "stream",
     "text": [
      "\n",
      "Percentage Females = 0.6037333333333333\n",
      "Percentage Males = 0.39626666666666666\n",
      "\n",
      "Percentage Married = 0.5321333333333333\n",
      "Percentage Single = 0.4553\n",
      "Percentage Other = 0.012566666666666667\n",
      "\n",
      "Percentage Graduate School = 0.35283333333333333\n",
      "Percentage University = 0.4676666666666667\n",
      "Percentage High School = 0.1639\n",
      "Percentage Other = 0.0156\n",
      "\n",
      "Percentage Defaulting next month = 0.2212\n",
      "Percentage Paying next month = 0.7788\n"
     ]
    }
   ],
   "source": [
    "#Divide data by sex\n",
    "male_female = credit.groupby('SEX')['SEX'].count()\n",
    "print()\n",
    "print('Percentage Females =', (male_female[0] / len(credit)))\n",
    "print('Percentage Males =', (male_female[1] / len(credit)))\n",
    "\n",
    "#Divide data by marital status\n",
    "Marriage_perc = credit.groupby('MARRIAGE')['MARRIAGE'].count()\n",
    "\n",
    "print()\n",
    "print('Percentage Married =', (Marriage_perc[0] / len(credit)))\n",
    "print('Percentage Single =', (Marriage_perc[2] / len(credit)))\n",
    "print('Percentage Other =', (Marriage_perc[1] / len(credit)))\n",
    "\n",
    "#Divide data by education\n",
    "Education_perc =credit.groupby('EDUCATION')['EDUCATION'].count()\n",
    "\n",
    "print()\n",
    "print('Percentage Graduate School =', (Education_perc[0] / len(credit)))\n",
    "print('Percentage University =',(Education_perc[3] / len(credit)))\n",
    "print('Percentage High School =', (Education_perc[1] / len(credit)))\n",
    "print('Percentage Other =', (Education_perc[2] / len(credit)))\n",
    "\n",
    "#Divide data by default status in october\n",
    "Default_perc = credit.groupby('DEFAULT')['DEFAULT'].count()\n",
    "print()\n",
    "print('Percentage Defaulting next month =', (Default_perc[0] / len(credit)))\n",
    "print('Percentage Paying next month =', (Default_perc[1] / len(credit)))"
   ]
  },
  {
   "cell_type": "markdown",
   "metadata": {},
   "source": [
    "##### More interesting facts:\n",
    "- The data contains more records for women than for men\n",
    "- Most people are married, although not by a big margin\n",
    "- The majority of the customers in the dataset attended university, or even grad school \n",
    "- About 22% of the customers are predicted to default on their payment\n",
    "<br />\n",
    "<br />"
   ]
  },
  {
   "cell_type": "markdown",
   "metadata": {},
   "source": [
    "### Next: some exploratory plots\n",
    "\n",
    "Let's start with some simple distributions of age and credit supplied:\n",
    "<br />"
   ]
  },
  {
   "cell_type": "code",
   "execution_count": 8,
   "metadata": {},
   "outputs": [
    {
     "data": {
      "image/png": "[encoded data removed]",
      "text/plain": [
       "<Figure size 432x288 with 1 Axes>"
      ]
     },
     "metadata": {
      "needs_background": "light"
     },
     "output_type": "display_data"
    }
   ],
   "source": [
    "#plot a histogram to see the age distribution within the dataset\n",
    "plt.hist(credit['AGE'], bins = 20)\n",
    "plt.show()"
   ]
  },
  {
   "cell_type": "code",
   "execution_count": 9,
   "metadata": {},
   "outputs": [
    {
     "data": {
      "image/png": "[encoded data removed]",
      "text/plain": [
       "<Figure size 432x288 with 1 Axes>"
      ]
     },
     "metadata": {
      "needs_background": "light"
     },
     "output_type": "display_data"
    }
   ],
   "source": [
    "#Plot the amount of credit that is provided to the customers\n",
    "plt.hist((credit.CREDIT), bins = 10)\n",
    "plt.show()"
   ]
  },
  {
   "cell_type": "markdown",
   "metadata": {},
   "source": [
    "##### Now let's group defaulters and non-defaulters with other variables  \n",
    "This way we can see relatively which sex defaults more often, which marital background, and what educational background is more of influence. \n",
    "<br />\n",
    "<br />"
   ]
  },
  {
   "cell_type": "code",
   "execution_count": 10,
   "metadata": {},
   "outputs": [
    {
     "data": {
      "image/png": "[encoded data removed]",
      "text/plain": [
       "<Figure size 612.625x360 with 1 Axes>"
      ]
     },
     "metadata": {
      "needs_background": "light"
     },
     "output_type": "display_data"
    },
    {
     "name": "stdout",
     "output_type": "stream",
     "text": [
      "The percentage of women that default = 0.20776280918727916\n",
      "The percentage of men that default = 0.2416722745625841\n"
     ]
    }
   ],
   "source": [
    "#From this plot it appears that relatively speaking man default more than women. \n",
    "sexplot = sns.catplot('DEFAULT', data = credit, hue = 'SEX', kind='count', aspect=1.5)\n",
    "sexplot.set_xlabels('DEFAULT')\n",
    "plt.show()\n",
    "\n",
    "# Give the exact percentages of defaulting women vs defaulting men\n",
    "default_female = len(credit[(credit.SEX == 'Female') & (credit.DEFAULT == 'Defaults')]) / len(credit[(credit.SEX == 'Female')])\n",
    "default_male = len(credit[(credit.SEX == 'Male') & (credit.DEFAULT == 'Defaults')]) / len(credit[(credit.SEX == 'Male')])\n",
    "\n",
    "print('The percentage of women that default =', str(default_female))\n",
    "print('The percentage of men that default =', str(default_male))"
   ]
  },
  {
   "cell_type": "markdown",
   "metadata": {},
   "source": [
    "Men default more often than women. Whether the difference is significant is difficult to tell.\n",
    "<br />\n",
    "<br />"
   ]
  },
  {
   "cell_type": "code",
   "execution_count": 11,
   "metadata": {},
   "outputs": [
    {
     "data": {
      "image/png": "[encoded data removed]",
      "text/plain": [
       "<Figure size 614.375x360 with 1 Axes>"
      ]
     },
     "metadata": {
      "needs_background": "light"
     },
     "output_type": "display_data"
    },
    {
     "name": "stdout",
     "output_type": "stream",
     "text": [
      "The percentage of singles that default = 0.23471703638626545\n",
      "The percentage of married people that default = 0.20928338762214985\n",
      "The percentage of others that default = 0.23607427055702918\n"
     ]
    }
   ],
   "source": [
    "#It seems that singles are relatively a bit less likely to pay their credit card bills than married couples \n",
    "Mariedplot = sns.catplot('DEFAULT', data = credit, hue = 'MARRIAGE', kind='count', aspect=1.5)\n",
    "Mariedplot.set_xlabels('DEFAULT')\n",
    "plt.show()\n",
    "\n",
    "# Provide percentages below the plot\n",
    "default_Single = (len(credit[(credit.MARRIAGE == 'Single') & (credit.DEFAULT == 'Defaults')]) \n",
    "                  / len(credit[(credit.MARRIAGE == 'Single')]))\n",
    "\n",
    "default_Married = (len(credit[(credit.MARRIAGE == 'Married') & (credit.DEFAULT == 'Defaults')]) / \n",
    "                   len(credit[(credit.MARRIAGE == 'Married')]))\n",
    "\n",
    "default_Other = (len(credit[(credit.MARRIAGE == 'Other') & (credit.DEFAULT == 'Defaults')]) / \n",
    "                  len(credit[(credit.MARRIAGE == 'Other')]))\n",
    "\n",
    "print('The percentage of singles that default =', str(default_Single))\n",
    "print('The percentage of married people that default =', str(default_Married))\n",
    "print('The percentage of others that default =', str(default_Other))"
   ]
  },
  {
   "cell_type": "markdown",
   "metadata": {},
   "source": [
    "When looking at the exact percentages, we see that married people default less than singles or others.\n",
    "<br />\n",
    "<br />"
   ]
  },
  {
   "cell_type": "code",
   "execution_count": 12,
   "metadata": {
    "scrolled": false
   },
   "outputs": [
    {
     "data": {
      "image/png": "[encoded data removed]",
      "text/plain": [
       "<Figure size 659x360 with 1 Axes>"
      ]
     },
     "metadata": {
      "needs_background": "light"
     },
     "output_type": "display_data"
    },
    {
     "name": "stdout",
     "output_type": "stream",
     "text": [
      "The percentage of University grads that default = 0.23734853884533144\n",
      "The percentage of Graduate School grads that default = 0.19234766178554558\n",
      "The percentage of High school grads people that default = 0.2515761643278422\n",
      "The percentage of others that default = 0.07051282051282051\n"
     ]
    }
   ],
   "source": [
    "# From this plot alone, there is no distinct correlation visible between education and paying the bills \n",
    "Mariedplot = sns.catplot('DEFAULT', data = credit, hue = 'EDUCATION', kind='count', aspect=1.5)\n",
    "Mariedplot.set_xlabels('DEFAULT')\n",
    "plt.show()\n",
    "\n",
    "#It appears that high school graduates default most often and Grad school graduates default least often \n",
    "#(''other'' actually defaults least often but we have no  clue what they represent and they are a very small portion of the set) \n",
    "\n",
    "default_University = (len(credit[(credit.EDUCATION == 'University') & (credit.DEFAULT == 'Defaults')]) / \n",
    "                      len(credit[(credit.EDUCATION == 'University')]))\n",
    "\n",
    "default_Graduate = (len(credit[(credit.EDUCATION == 'Graduate School') & (credit.DEFAULT == 'Defaults')]) / \n",
    "                    len(credit[(credit.EDUCATION == 'Graduate School')]))\n",
    "\n",
    "default_HighSchool = (len(credit[(credit.EDUCATION == 'High School') & (credit.DEFAULT == 'Defaults')]) / \n",
    "                      len(credit[(credit.EDUCATION == 'High School')]))\n",
    "\n",
    "default_other2 = (len(credit[(credit.EDUCATION == 'Other') & (credit.DEFAULT == 'Defaults')]) / \n",
    "                  len(credit[(credit.EDUCATION == 'Other')]))\n",
    "\n",
    "print('The percentage of University grads that default =', str(default_University))\n",
    "print('The percentage of Graduate School grads that default =', str(default_Graduate))\n",
    "print('The percentage of High school grads people that default =', str(default_HighSchool))\n",
    "print('The percentage of others that default =', str(default_other2))"
   ]
  },
  {
   "cell_type": "markdown",
   "metadata": {},
   "source": [
    "##### More plots!\n",
    "The following plots will provide some more information on what the observations are made out of. \n",
    "<br />\n",
    "<br />"
   ]
  },
  {
   "cell_type": "code",
   "execution_count": 13,
   "metadata": {},
   "outputs": [
    {
     "data": {
      "text/plain": [
       "(array([3246., 1263.,  916.,  606.,  319.,  121.,  146.,   10.,    5.,\n",
       "           4.]),\n",
       " array([ 10000.,  83000., 156000., 229000., 302000., 375000., 448000.,\n",
       "        521000., 594000., 667000., 740000.]),\n",
       " <a list of 10 Patch objects>)"
      ]
     },
     "execution_count": 13,
     "metadata": {},
     "output_type": "execute_result"
    },
    {
     "data": {
      "image/png": "[encoded data removed]",
      "text/plain": [
       "<Figure size 432x288 with 1 Axes>"
      ]
     },
     "metadata": {
      "needs_background": "light"
     },
     "output_type": "display_data"
    }
   ],
   "source": [
    "#Lets see if there is an observable difference in the distribution of credit for defaulters and non-defaulters\n",
    "\n",
    "Defaulters = credit[(credit.DEFAULT == 'Defaults')]\n",
    "Payers = credit[(credit.DEFAULT == 'Pays')]\n",
    "plt.hist((Payers.CREDIT), bins = 10, alpha = 0.5)\n",
    "plt.hist((Defaulters.CREDIT), bins = 10)"
   ]
  },
  {
   "cell_type": "code",
   "execution_count": 14,
   "metadata": {},
   "outputs": [
    {
     "data": {
      "image/png": "[encoded data removed]",
      "text/plain": [
       "<Figure size 432x288 with 1 Axes>"
      ]
     },
     "metadata": {
      "needs_background": "light"
     },
     "output_type": "display_data"
    }
   ],
   "source": [
    "# Create histograms of age and default status\n",
    "defaulted = credit[credit.DEFAULT == 'Defaults']\n",
    "payedduly = credit[credit.DEFAULT == 'Pays']\n",
    "\n",
    "plt.hist(payedduly.AGE, bins = 20, alpha = 0.5)\n",
    "plt.hist(defaulted.AGE, bins = 20)\n",
    "plt.show()"
   ]
  },
  {
   "cell_type": "markdown",
   "metadata": {},
   "source": [
    "Although it is difficult to see properly, it appears that the proportion of defaulters increases as people get older"
   ]
  },
  {
   "cell_type": "code",
   "execution_count": 15,
   "metadata": {},
   "outputs": [
    {
     "data": {
      "image/png": "[encoded data removed]",
      "text/plain": [
       "<Figure size 615.5x360 with 1 Axes>"
      ]
     },
     "metadata": {
      "needs_background": "light"
     },
     "output_type": "display_data"
    }
   ],
   "source": [
    "# Plot the default status with their payment status of the previous month\n",
    "paymentplot = sns.catplot('DEFAULT', data = credit, hue = 'PAYSTAT_SEP', kind='count', aspect=1.5)\n",
    "paymentplot.set_xlabels('DEFAULT')\n",
    "plt.show()"
   ]
  },
  {
   "cell_type": "markdown",
   "metadata": {},
   "source": [
    "The plot shows that there are comparatively a lot less 0´s, -1´s and -2's that defaulted in the month than that did not default. <br /> \n",
    "<br />\n",
    "Here a closer look at the ones that defaulted:\n"
   ]
  },
  {
   "cell_type": "code",
   "execution_count": 16,
   "metadata": {},
   "outputs": [
    {
     "data": {
      "image/png": "[encoded data removed]",
      "text/plain": [
       "<Figure size 615.5x360 with 1 Axes>"
      ]
     },
     "metadata": {
      "needs_background": "light"
     },
     "output_type": "display_data"
    }
   ],
   "source": [
    "sns.catplot('DEFAULT', data = defaulted, hue = 'PAYSTAT_SEP', kind='count', aspect=1.5)\n",
    "plt.show()"
   ]
  },
  {
   "cell_type": "markdown",
   "metadata": {},
   "source": [
    "<br />\n",
    "... and the ones that did not default on their payments:"
   ]
  },
  {
   "cell_type": "code",
   "execution_count": 17,
   "metadata": {},
   "outputs": [
    {
     "data": {
      "image/png": "[encoded data removed]",
      "text/plain": [
       "<Figure size 615.5x360 with 1 Axes>"
      ]
     },
     "metadata": {
      "needs_background": "light"
     },
     "output_type": "display_data"
    }
   ],
   "source": [
    "sns.catplot('DEFAULT', data = payedduly, hue = 'PAYSTAT_SEP', kind='count', aspect=1.5)\n",
    "plt.show()"
   ]
  },
  {
   "cell_type": "markdown",
   "metadata": {},
   "source": [
    "<br />\n",
    "Let's take a look at the correlations for a few of the numerical variables:"
   ]
  },
  {
   "cell_type": "code",
   "execution_count": 18,
   "metadata": {},
   "outputs": [
    {
     "name": "stdout",
     "output_type": "stream",
     "text": [
      "               CREDIT       AGE  CUR_BIL_AUG  CUR_BIL_SEP  PAID_AUG  PAID_SEP\n",
      "CREDIT       1.000000  0.144713     0.278314     0.285430  0.178408  0.195236\n",
      "AGE          0.144713  1.000000     0.054283     0.056239  0.021785  0.026147\n",
      "CUR_BIL_AUG  0.278314  0.054283     1.000000     0.951484  0.100851  0.280365\n",
      "CUR_BIL_SEP  0.285430  0.056239     0.951484     1.000000  0.099355  0.140277\n",
      "PAID_AUG     0.178408  0.021785     0.100851     0.099355  1.000000  0.285576\n",
      "PAID_SEP     0.195236  0.026147     0.280365     0.140277  0.285576  1.000000\n",
      "AxesImage(43.2,25.92;223.2x223.2)\n"
     ]
    },
    {
     "data": {
      "image/png": "[encoded data removed]",
      "text/plain": [
       "<Figure size 288x288 with 1 Axes>"
      ]
     },
     "metadata": {
      "needs_background": "light"
     },
     "output_type": "display_data"
    }
   ],
   "source": [
    "credit_corsample = credit[[\"CREDIT\", \"AGE\", \"CUR_BIL_AUG\", \"CUR_BIL_SEP\",\"PAID_AUG\" , \"PAID_SEP\"]]\n",
    "print(credit_corsample.corr())\n",
    "print(plt.matshow(credit_corsample.corr()))"
   ]
  },
  {
   "cell_type": "markdown",
   "metadata": {},
   "source": [
    "### Default status of the other months:\n",
    "<br />\n",
    "The defaulting variable in our dataset is generated by a Sorting Smoothing Method.<br /> \n",
    "Lets see if the same percentage of defaulting is also observable in other months"
   ]
  },
  {
   "cell_type": "code",
   "execution_count": 19,
   "metadata": {},
   "outputs": [
    {
     "name": "stdout",
     "output_type": "stream",
     "text": [
      "Defaults in October: 0.2212\n",
      "Defaults in September: 0.22726666666666667\n",
      "Defaults in August: 0.14793333333333333\n",
      "Defaults in July: 0.14043333333333333\n",
      "Defaults in June: 0.117\n",
      "Defaults in May: 0.09893333333333333\n",
      "Defaults in April: 0.10263333333333333\n"
     ]
    }
   ],
   "source": [
    "#Use the paystat variables to see whether the customers defaulted\n",
    "default_oct = (Default_perc[0] / len(credit))\n",
    "default_sep = len(credit[(credit.PAYSTAT_SEP > 0)])/len(credit)\n",
    "default_aug = len(credit[(credit.PAYSTAT_AUG > 0)])/len(credit)\n",
    "default_july = len(credit[(credit.PAYSTAT_JULY > 0)])/len(credit)\n",
    "default_june = len(credit[(credit.PAYSTAT_JUNE > 0)])/len(credit)\n",
    "default_may = len(credit[(credit.PAYSTAT_MAY > 0)])/len(credit)\n",
    "default_apr = len(credit[(credit.PAYSTAT_APR > 0)])/len(credit)\n",
    "\n",
    "print(\"Defaults in October:\", default_oct)\n",
    "print(\"Defaults in September:\", default_sep)\n",
    "print(\"Defaults in August:\", default_aug)\n",
    "print(\"Defaults in July:\", default_july)\n",
    "print(\"Defaults in June:\", default_june)\n",
    "print(\"Defaults in May:\", default_may)\n",
    "print(\"Defaults in April:\", default_apr)\n"
   ]
  },
  {
   "cell_type": "markdown",
   "metadata": {},
   "source": [
    "<br/>\n",
    "It appears that the amount of people defaulting is increasing over the months. lets plot this."
   ]
  },
  {
   "cell_type": "code",
   "execution_count": 20,
   "metadata": {},
   "outputs": [
    {
     "data": {
      "image/png": "[encoded data removed]",
      "text/plain": [
       "<Figure size 432x288 with 1 Axes>"
      ]
     },
     "metadata": {
      "needs_background": "light"
     },
     "output_type": "display_data"
    }
   ],
   "source": [
    "#Make a plot for the default percentages \n",
    "plt.plot(np.array([default_apr, default_may, default_june, default_july, default_aug ,default_sep, default_oct]))\n",
    "x = np.array([0,1,2,3,4,5,6])\n",
    "my_xticks = ['April','May', 'June', 'July', 'August', 'September', 'October']\n",
    "plt.xticks(x, my_xticks)\n",
    "plt.title(\"Percentage of defaults each month\")\n",
    "plt.show()"
   ]
  },
  {
   "cell_type": "markdown",
   "metadata": {},
   "source": [
    "To me this is quite interesting. What could be the reason for this? <br />Are people perhaps spending more in later months, which makes it more difficult to pay back their loans? <br /> <br />Let's find out:"
   ]
  },
  {
   "cell_type": "code",
   "execution_count": 21,
   "metadata": {},
   "outputs": [],
   "source": [
    "#Make an array with the mean of each column\n",
    "credit_means = np.mean(credit)"
   ]
  },
  {
   "cell_type": "code",
   "execution_count": 22,
   "metadata": {},
   "outputs": [
    {
     "data": {
      "image/png": "[encoded data removed]",
      "text/plain": [
       "<Figure size 432x288 with 1 Axes>"
      ]
     },
     "metadata": {
      "needs_background": "light"
     },
     "output_type": "display_data"
    }
   ],
   "source": [
    "#Plot the trend of the mean bill increase and the mean paid amount in 1 plot\n",
    "mean_bill = pd.DataFrame(credit_means[9:15])\n",
    "mean_paid = pd.DataFrame(credit_means[15:21])\n",
    "\n",
    "#change row index to sequential numbers\n",
    "mean_bill.index = ['April','May', 'June', 'July', 'August', 'September']\n",
    "mean_paid.index = ['April','May', 'June', 'July', 'August', 'September']\n",
    "\n",
    "#turn into 1 dataframe \n",
    "Mean_bill_paid = pd.concat([mean_bill, mean_paid], axis=1, sort=False)\n",
    "Mean_bill_paid.columns = ['Average Bill', 'Average Payment']\n",
    "\n",
    "#scale so it fits in the same plot as the previous graph\n",
    "min_max_scaler = preprocessing.MinMaxScaler()\n",
    "scaled_array = min_max_scaler.fit_transform(Mean_bill_paid)\n",
    "means_normalized = pd.DataFrame(scaled_array)\n",
    "\n",
    "#plot the actual trend\n",
    "plt.plot(means_normalized)\n",
    "plt.legend(('Mean bills trend', 'Mean amount paid trend'))\n",
    "x = np.array([0,1,2,3,4,5])\n",
    "my_xticks = ['April','May', 'June', 'July', 'August', 'September']\n",
    "plt.xticks(x, my_xticks)\n",
    "\n",
    "plt.show()\n"
   ]
  },
  {
   "cell_type": "markdown",
   "metadata": {},
   "source": [
    "## Warning!\n",
    "### This graph is terrible! \n",
    "It looks like people pay more in April and August than what's on their respective bill. \n",
    "This is caused by the normalization of the features.\n",
    "\n",
    "Let's go on with the exploration, and se whether bills grew more or less than the amount payed back over the months:"
   ]
  },
  {
   "cell_type": "code",
   "execution_count": 23,
   "metadata": {},
   "outputs": [
    {
     "name": "stdout",
     "output_type": "stream",
     "text": [
      "growth bills = 1.3177517656236635\n",
      "growth payments = 1.233733124383528\n"
     ]
    }
   ],
   "source": [
    "#how much did bills grow when comparing the max to the min?\n",
    "mean_april = (mean_bill.iloc[0, 0])\n",
    "mean_september =  (mean_bill.iloc[5, 0])\n",
    "print(\"growth bills =\", str(mean_september / mean_april))\n",
    "\n",
    "#how much did payments grow when comparing the max to the min?\n",
    "mean_april = (mean_paid.iloc[1, 0])\n",
    "mean_september =  (mean_paid.iloc[4, 0])\n",
    "print(\"growth payments =\", str(mean_september / mean_april))"
   ]
  },
  {
   "cell_type": "markdown",
   "metadata": {},
   "source": [
    "#### Dealing with some weird observations\n",
    "In the beginning of this script, when printing the first rows of the dataset, it became observable that \n",
    "there are rows <br /> \n",
    "in the data where a person did not have any outstanding credit in September, but were still\n",
    "predicted to default <br />\n",
    "the following month. This is strange because they had no credit to default on. \n",
    "<br /><br />Let's see how many observations suffer from this inconsistency:\n"
   ]
  },
  {
   "cell_type": "code",
   "execution_count": 24,
   "metadata": {},
   "outputs": [
    {
     "name": "stdout",
     "output_type": "stream",
     "text": [
      "There are 534 people predicted to default without having any debts.\n",
      "This is 0.08047016274864376 percent of all the the predicted defaults\n"
     ]
    }
   ],
   "source": [
    "#get the number and the perecntage of defaulters without debts\n",
    "Default_nobill = len(credit[((credit.CUR_BIL_SEP == 0) & (credit.DEFAULT == 'Defaults'))])\n",
    "Default_nobill_perc = (len(credit[((credit.CUR_BIL_SEP == 0) & (credit.DEFAULT == 'Defaults'))])/\n",
    "                       len(credit[(credit.DEFAULT == 'Defaults')]))\n",
    "\n",
    "print(\"There are\", str(Default_nobill), \"people predicted to default without having any debts.\")\n",
    "print(\"This is\",  str(Default_nobill_perc), \"percent of all the the predicted defaults\")\n"
   ]
  },
  {
   "cell_type": "markdown",
   "metadata": {},
   "source": [
    "These values should be dealt with when starting the feature engineering since they can mess up our modeling"
   ]
  },
  {
   "cell_type": "markdown",
   "metadata": {},
   "source": [
    "#### Do payments and bills allign?\n",
    "As we saw earlier, bills are in generally a lot higher than what is being paid. However, it could be possible that people are allowed to have a long term debt. <br />\n",
    "Therefore it should be interesting to see if the differences between each month add up to the payments that are made.\n",
    "<br /><br />\n",
    "Lets find that out now:\n"
   ]
  },
  {
   "cell_type": "code",
   "execution_count": 25,
   "metadata": {},
   "outputs": [
    {
     "name": "stdout",
     "output_type": "stream",
     "text": [
      "0.23106889606954445\n",
      "0.26279843291846233\n",
      "0.4319461436509805\n",
      "0.23270576162678885\n",
      "\n",
      "0.2931184631844314\n",
      "0.30002252911164895\n",
      "0.3169359771796885\n",
      "0.28036535701410076\n"
     ]
    }
   ],
   "source": [
    "#Make variables that should entail the amount spent in a specific month:\n",
    "diffbill_may_apr = credit.CUR_BIL_MAY - credit.CUR_BIL_APR\n",
    "diffbill_june_may = credit.CUR_BIL_JUNE - credit.CUR_BIL_MAY\n",
    "diffbill_july_june = credit.CUR_BIL_JULY - credit.CUR_BIL_JUNE\n",
    "diffbill_aug_july = credit.CUR_BIL_AUG - credit.CUR_BIL_JULY\n",
    "diffbill_sep_aug = credit.CUR_BIL_SEP - credit.CUR_BIL_AUG\n",
    "\n",
    "diffbill_may_apr[diffbill_may_apr < 0] = 0\n",
    "diffbill_june_may[diffbill_june_may < 0] = 0\n",
    "diffbill_july_june[diffbill_july_june < 0] = 0\n",
    "diffbill_aug_july[diffbill_aug_july < 0] = 0\n",
    "diffbill_sep_aug[diffbill_sep_aug < 0] = 0\n",
    "\n",
    "print(diffbill_may_apr.corr(credit.PAID_JUNE))\n",
    "print(diffbill_june_may.corr(credit.PAID_JULY))\n",
    "print(diffbill_july_june.corr(credit.PAID_AUG))\n",
    "print(diffbill_aug_july.corr(credit.PAID_SEP))\n",
    "\n",
    "#There seems no strong correlation between the bills and the payment made the month afterwards \n",
    "print()\n",
    "\n",
    "print(credit.CUR_BIL_MAY.corr(credit.PAID_JUNE))\n",
    "print(credit.CUR_BIL_JUNE .corr(credit.PAID_JULY))\n",
    "print(credit.CUR_BIL_JULY.corr(credit.PAID_AUG))\n",
    "print(credit.CUR_BIL_AUG.corr(credit.PAID_SEP))\n",
    "\n"
   ]
  },
  {
   "cell_type": "markdown",
   "metadata": {},
   "source": [
    "The correlation between the full bill and the payment the month after is higher, indicating that if people skip a payment, they are more likely to pay the complete bill rather then only pay for the bill for the specific month only (makes sense)\n",
    "\n",
    "### Another warning: \n",
    "This correlation analysis is REALLY bad. I made a thinking error when making the first variables. Oops"
   ]
  },
  {
   "cell_type": "markdown",
   "metadata": {},
   "source": [
    "#### End of the file\n",
    "\n",
    "That was it for this file. I'll save it now and go on to the preprocessing part. There will be some more interesting facts hidden in that file, so be sure to check it out!\n",
    "\n",
    "#### Bye!"
   ]
  },
  {
   "cell_type": "code",
   "execution_count": 26,
   "metadata": {},
   "outputs": [],
   "source": [
    "# Save the dataframe and create a new \n",
    "credit.to_csv(\"C:\\\\Users\\\\Jeroen\\\\Desktop\\\\Ubiqum\\\\Data Science\\\\Excel Files\\\\Credit_1.csv\")"
   ]
  }
 ],
 "metadata": {
  "kernelspec": {
   "display_name": "Python 3",
   "language": "python",
   "name": "python3"
  },
  "language_info": {
   "codemirror_mode": {
    "name": "ipython",
    "version": 3
   },
   "file_extension": ".py",
   "mimetype": "text/x-python",
   "name": "python",
   "nbconvert_exporter": "python",
   "pygments_lexer": "ipython3",
   "version": "3.7.0"
  }
 },
 "nbformat": 4,
 "nbformat_minor": 2
}
