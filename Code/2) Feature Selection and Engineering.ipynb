{
 "cells": [
  {
   "cell_type": "code",
   "execution_count": 1,
   "metadata": {},
   "outputs": [],
   "source": [
    "import pandas as pd\n",
    "import numpy as np\n",
    "import pylab\n",
    "import math\n",
    "\n",
    "import seaborn as sns \n",
    "import matplotlib.pyplot as plt\n",
    "\n",
    "from sklearn import preprocessing\n",
    "from sklearn.model_selection import train_test_split\n",
    "\n",
    "\n",
    "# Set default matplot figure size\n",
    "pylab.rcParams['figure.figsize'] = (10.0, 8.0) "
   ]
  },
  {
   "cell_type": "code",
   "execution_count": 2,
   "metadata": {},
   "outputs": [],
   "source": [
    "# set seed\n",
    "np.random.seed(123)"
   ]
  },
  {
   "cell_type": "code",
   "execution_count": 3,
   "metadata": {},
   "outputs": [],
   "source": [
    "#Tree packages for checking the feature importance\n",
    "from sklearn.ensemble import RandomForestClassifier \n",
    "rf = RandomForestClassifier() "
   ]
  },
  {
   "cell_type": "code",
   "execution_count": 4,
   "metadata": {},
   "outputs": [],
   "source": [
    "credit = pd.read_csv(\"C:\\\\Users\\\\Jeroen\\\\Desktop\\\\Ubiqum\\\\Data Science\\\\Excel Files\\\\Credit_1.csv\", header = 0)\n",
    "credit = credit[credit.columns[2:len(credit.columns)]]"
   ]
  },
  {
   "cell_type": "code",
   "execution_count": 5,
   "metadata": {},
   "outputs": [],
   "source": [
    "#Remove the values that had no debt in september but were given a default status in october\n",
    "credit = credit[-((credit.CUR_BIL_SEP == 0) & (credit.DEFAULT == 'Defaults'))]"
   ]
  },
  {
   "cell_type": "code",
   "execution_count": 6,
   "metadata": {},
   "outputs": [
    {
     "data": {
      "text/html": [
       "<div>\n",
       "<style scoped>\n",
       "    .dataframe tbody tr th:only-of-type {\n",
       "        vertical-align: middle;\n",
       "    }\n",
       "\n",
       "    .dataframe tbody tr th {\n",
       "        vertical-align: top;\n",
       "    }\n",
       "\n",
       "    .dataframe thead th {\n",
       "        text-align: right;\n",
       "    }\n",
       "</style>\n",
       "<table border=\"1\" class=\"dataframe\">\n",
       "  <thead>\n",
       "    <tr style=\"text-align: right;\">\n",
       "      <th></th>\n",
       "      <th>CREDIT</th>\n",
       "      <th>SEX</th>\n",
       "      <th>EDUCATION</th>\n",
       "      <th>MARRIAGE</th>\n",
       "      <th>AGE</th>\n",
       "      <th>PAYSTAT_APR</th>\n",
       "      <th>PAYSTAT_MAY</th>\n",
       "      <th>PAYSTAT_JUNE</th>\n",
       "      <th>PAYSTAT_JULY</th>\n",
       "      <th>PAYSTAT_AUG</th>\n",
       "      <th>...</th>\n",
       "      <th>CUR_BIL_JULY</th>\n",
       "      <th>CUR_BIL_AUG</th>\n",
       "      <th>CUR_BIL_SEP</th>\n",
       "      <th>PAID_APR</th>\n",
       "      <th>PAID_MAY</th>\n",
       "      <th>PAID_JUNE</th>\n",
       "      <th>PAID_JULY</th>\n",
       "      <th>PAID_AUG</th>\n",
       "      <th>PAID_SEP</th>\n",
       "      <th>DEFAULT</th>\n",
       "    </tr>\n",
       "  </thead>\n",
       "  <tbody>\n",
       "    <tr>\n",
       "      <th>0</th>\n",
       "      <td>20000</td>\n",
       "      <td>Female</td>\n",
       "      <td>University</td>\n",
       "      <td>Single</td>\n",
       "      <td>24</td>\n",
       "      <td>-2</td>\n",
       "      <td>-2</td>\n",
       "      <td>-1</td>\n",
       "      <td>-1</td>\n",
       "      <td>2</td>\n",
       "      <td>...</td>\n",
       "      <td>689</td>\n",
       "      <td>3102</td>\n",
       "      <td>3913</td>\n",
       "      <td>0</td>\n",
       "      <td>0</td>\n",
       "      <td>0</td>\n",
       "      <td>0</td>\n",
       "      <td>689</td>\n",
       "      <td>0</td>\n",
       "      <td>Defaults</td>\n",
       "    </tr>\n",
       "    <tr>\n",
       "      <th>1</th>\n",
       "      <td>120000</td>\n",
       "      <td>Female</td>\n",
       "      <td>University</td>\n",
       "      <td>Married</td>\n",
       "      <td>26</td>\n",
       "      <td>2</td>\n",
       "      <td>0</td>\n",
       "      <td>0</td>\n",
       "      <td>0</td>\n",
       "      <td>2</td>\n",
       "      <td>...</td>\n",
       "      <td>2682</td>\n",
       "      <td>1725</td>\n",
       "      <td>2682</td>\n",
       "      <td>2000</td>\n",
       "      <td>0</td>\n",
       "      <td>1000</td>\n",
       "      <td>1000</td>\n",
       "      <td>1000</td>\n",
       "      <td>0</td>\n",
       "      <td>Defaults</td>\n",
       "    </tr>\n",
       "    <tr>\n",
       "      <th>2</th>\n",
       "      <td>90000</td>\n",
       "      <td>Female</td>\n",
       "      <td>University</td>\n",
       "      <td>Married</td>\n",
       "      <td>34</td>\n",
       "      <td>0</td>\n",
       "      <td>0</td>\n",
       "      <td>0</td>\n",
       "      <td>0</td>\n",
       "      <td>0</td>\n",
       "      <td>...</td>\n",
       "      <td>13559</td>\n",
       "      <td>14027</td>\n",
       "      <td>29239</td>\n",
       "      <td>5000</td>\n",
       "      <td>1000</td>\n",
       "      <td>1000</td>\n",
       "      <td>1000</td>\n",
       "      <td>1500</td>\n",
       "      <td>1518</td>\n",
       "      <td>Pays</td>\n",
       "    </tr>\n",
       "    <tr>\n",
       "      <th>3</th>\n",
       "      <td>50000</td>\n",
       "      <td>Female</td>\n",
       "      <td>University</td>\n",
       "      <td>Single</td>\n",
       "      <td>37</td>\n",
       "      <td>0</td>\n",
       "      <td>0</td>\n",
       "      <td>0</td>\n",
       "      <td>0</td>\n",
       "      <td>0</td>\n",
       "      <td>...</td>\n",
       "      <td>49291</td>\n",
       "      <td>48233</td>\n",
       "      <td>46990</td>\n",
       "      <td>1000</td>\n",
       "      <td>1069</td>\n",
       "      <td>1100</td>\n",
       "      <td>1200</td>\n",
       "      <td>2019</td>\n",
       "      <td>2000</td>\n",
       "      <td>Pays</td>\n",
       "    </tr>\n",
       "    <tr>\n",
       "      <th>4</th>\n",
       "      <td>50000</td>\n",
       "      <td>Male</td>\n",
       "      <td>University</td>\n",
       "      <td>Single</td>\n",
       "      <td>57</td>\n",
       "      <td>0</td>\n",
       "      <td>0</td>\n",
       "      <td>0</td>\n",
       "      <td>-1</td>\n",
       "      <td>0</td>\n",
       "      <td>...</td>\n",
       "      <td>35835</td>\n",
       "      <td>5670</td>\n",
       "      <td>8617</td>\n",
       "      <td>679</td>\n",
       "      <td>689</td>\n",
       "      <td>9000</td>\n",
       "      <td>10000</td>\n",
       "      <td>36681</td>\n",
       "      <td>2000</td>\n",
       "      <td>Pays</td>\n",
       "    </tr>\n",
       "  </tbody>\n",
       "</table>\n",
       "<p>5 rows × 24 columns</p>\n",
       "</div>"
      ],
      "text/plain": [
       "   CREDIT     SEX   EDUCATION MARRIAGE  AGE  PAYSTAT_APR  PAYSTAT_MAY  \\\n",
       "0   20000  Female  University   Single   24           -2           -2   \n",
       "1  120000  Female  University  Married   26            2            0   \n",
       "2   90000  Female  University  Married   34            0            0   \n",
       "3   50000  Female  University   Single   37            0            0   \n",
       "4   50000    Male  University   Single   57            0            0   \n",
       "\n",
       "   PAYSTAT_JUNE  PAYSTAT_JULY  PAYSTAT_AUG    ...     CUR_BIL_JULY  \\\n",
       "0            -1            -1            2    ...              689   \n",
       "1             0             0            2    ...             2682   \n",
       "2             0             0            0    ...            13559   \n",
       "3             0             0            0    ...            49291   \n",
       "4             0            -1            0    ...            35835   \n",
       "\n",
       "   CUR_BIL_AUG  CUR_BIL_SEP  PAID_APR  PAID_MAY  PAID_JUNE  PAID_JULY  \\\n",
       "0         3102         3913         0         0          0          0   \n",
       "1         1725         2682      2000         0       1000       1000   \n",
       "2        14027        29239      5000      1000       1000       1000   \n",
       "3        48233        46990      1000      1069       1100       1200   \n",
       "4         5670         8617       679       689       9000      10000   \n",
       "\n",
       "   PAID_AUG  PAID_SEP   DEFAULT  \n",
       "0       689         0  Defaults  \n",
       "1      1000         0  Defaults  \n",
       "2      1500      1518      Pays  \n",
       "3      2019      2000      Pays  \n",
       "4     36681      2000      Pays  \n",
       "\n",
       "[5 rows x 24 columns]"
      ]
     },
     "execution_count": 6,
     "metadata": {},
     "output_type": "execute_result"
    }
   ],
   "source": [
    "credit.head()"
   ]
  },
  {
   "cell_type": "code",
   "execution_count": 7,
   "metadata": {},
   "outputs": [],
   "source": [
    "#Genereate arrays that give the average increase of the bill\n",
    "BILL_INCR_MAY = credit.CUR_BIL_MAY/(credit.CUR_BIL_MAY + credit.CUR_BIL_APR)\n",
    "BILL_INCR_JUN = credit.CUR_BIL_JUNE/(credit.CUR_BIL_JUNE + credit.CUR_BIL_MAY)\n",
    "BILL_INCR_JUL = credit.CUR_BIL_JULY/(credit.CUR_BIL_JULY + credit.CUR_BIL_JUNE)\n",
    "BILL_INCR_AUG = credit.CUR_BIL_AUG/(credit.CUR_BIL_AUG + credit.CUR_BIL_JULY)\n",
    "BILL_INCR_SEP = credit.CUR_BIL_SEP/(credit.CUR_BIL_SEP + credit.CUR_BIL_AUG)\n",
    "\n",
    "#replace NaN by 1 (since it was caused by 0/0)\n",
    "BILL_INCR_MAY[np.isnan(BILL_INCR_MAY)]  = 1\n",
    "BILL_INCR_JUN[np.isnan(BILL_INCR_JUN)]  = 1\n",
    "BILL_INCR_JUL[np.isnan(BILL_INCR_JUL)]  = 1\n",
    "BILL_INCR_AUG[np.isnan(BILL_INCR_AUG)]  = 1\n",
    "BILL_INCR_SEP[np.isnan(BILL_INCR_SEP)]  = 1\n",
    "\n",
    "credit[\"AVG_BILL_INCR\"] = (BILL_INCR_MAY + \n",
    "                           BILL_INCR_JUN + \n",
    "                           BILL_INCR_JUL +\n",
    "                           BILL_INCR_AUG + \n",
    "                           BILL_INCR_SEP) / 5"
   ]
  },
  {
   "cell_type": "code",
   "execution_count": 8,
   "metadata": {},
   "outputs": [
    {
     "name": "stderr",
     "output_type": "stream",
     "text": [
      "D:\\Users\\Jeroen\\Anaconda3\\lib\\site-packages\\ipykernel_launcher.py:1: SettingWithCopyWarning: \n",
      "A value is trying to be set on a copy of a slice from a DataFrame\n",
      "\n",
      "See the caveats in the documentation: http://pandas.pydata.org/pandas-docs/stable/indexing.html#indexing-view-versus-copy\n",
      "  \"\"\"Entry point for launching an IPython kernel.\n",
      "D:\\Users\\Jeroen\\Anaconda3\\lib\\site-packages\\ipykernel_launcher.py:2: SettingWithCopyWarning: \n",
      "A value is trying to be set on a copy of a slice from a DataFrame\n",
      "\n",
      "See the caveats in the documentation: http://pandas.pydata.org/pandas-docs/stable/indexing.html#indexing-view-versus-copy\n",
      "  \n"
     ]
    },
    {
     "data": {
      "text/plain": [
       "count    29466.000000\n",
       "mean         0.486196\n",
       "std          3.069930\n",
       "min       -100.000000\n",
       "25%          0.493753\n",
       "50%          0.510604\n",
       "75%          0.555765\n",
       "max        100.000000\n",
       "Name: AVG_BILL_INCR, dtype: float64"
      ]
     },
     "execution_count": 8,
     "metadata": {},
     "output_type": "execute_result"
    }
   ],
   "source": [
    "credit.AVG_BILL_INCR[credit.AVG_BILL_INCR > 100] = 100\n",
    "credit.AVG_BILL_INCR[credit.AVG_BILL_INCR < -100] = -100\n",
    "credit.AVG_BILL_INCR.describe()"
   ]
  },
  {
   "cell_type": "code",
   "execution_count": 9,
   "metadata": {},
   "outputs": [
    {
     "name": "stdout",
     "output_type": "stream",
     "text": [
      "Of the people that will default in October, 64.19206817436906 percent has defaulted at least once in the previous months as well.\n"
     ]
    }
   ],
   "source": [
    "#Make a variable that states whether the person has defaulted in the past\n",
    "credit['DEFAULTED_BEFORE'] = (np.where((credit['PAYSTAT_APR'] >= 1) |\n",
    "                                       (credit['PAYSTAT_MAY'] >= 1) |\n",
    "                                       (credit['PAYSTAT_JUNE'] >= 1) |\n",
    "                                       (credit['PAYSTAT_JULY'] >= 1) |\n",
    "                                       (credit['PAYSTAT_AUG'] >= 1) |\n",
    "                                       (credit['PAYSTAT_SEP'] >= 1)\n",
    "                                       , \"Yes\" , \"No\"))\n",
    "\n",
    "print(\"Of the people that will default in October,\",\n",
    "      (len(credit[((credit.DEFAULT == \"Defaults\") & (credit.DEFAULTED_BEFORE == \"Yes\"))]) / \n",
    "      len(credit[credit.DEFAULT == \"Defaults\"]))*100,\n",
    "      \"percent has defaulted at least once in the previous months as well.\")"
   ]
  },
  {
   "cell_type": "code",
   "execution_count": 10,
   "metadata": {},
   "outputs": [
    {
     "name": "stdout",
     "output_type": "stream",
     "text": [
      "Average credit ratio is 0.4184021863875477\n",
      "Average credit ratio for defaulters is 0.5280123430552899\n",
      "Average credit ratio for non-defaulters is 0.3897751886137699\n"
     ]
    }
   ],
   "source": [
    "#Create variable that provides ratio of current bill and amount that can be borrowed\n",
    "credit['CREDIT_RATIO'] = (credit['CUR_BIL_AUG'] / credit['CREDIT'])\n",
    "\n",
    "#Check for the difference in the ratio people that default and people that pay\n",
    "defaulters = credit[credit.DEFAULT == \"Defaults\"]\n",
    "nondefaulters = credit[credit.DEFAULT == \"Pays\"]\n",
    "\n",
    "print(\"Average credit ratio is\", credit.CREDIT_RATIO.mean())\n",
    "print(\"Average credit ratio for defaulters is\", defaulters.CREDIT_RATIO.mean())\n",
    "print(\"Average credit ratio for non-defaulters is\", nondefaulters.CREDIT_RATIO.mean())"
   ]
  },
  {
   "cell_type": "code",
   "execution_count": 11,
   "metadata": {},
   "outputs": [
    {
     "data": {
      "text/plain": [
       "(array([1.0000e+00, 1.0000e+00, 2.0000e+00, 1.0472e+04, 4.6740e+03,\n",
       "        4.8590e+03, 3.2210e+03, 6.7000e+01, 4.6000e+01, 1.1000e+01,\n",
       "        1.0000e+00, 2.0000e+00, 2.0000e+00, 2.0000e+00, 1.0000e+00,\n",
       "        0.0000e+00, 0.0000e+00, 1.0000e+00, 0.0000e+00, 1.0000e+00]),\n",
       " array([-1.39554 , -1.006738, -0.617936, -0.229134,  0.159668,  0.54847 ,\n",
       "         0.937272,  1.326074,  1.714876,  2.103678,  2.49248 ,  2.881282,\n",
       "         3.270084,  3.658886,  4.047688,  4.43649 ,  4.825292,  5.214094,\n",
       "         5.602896,  5.991698,  6.3805  ]),\n",
       " <a list of 20 Patch objects>)"
      ]
     },
     "execution_count": 11,
     "metadata": {},
     "output_type": "execute_result"
    },
    {
     "data": {
      "image/png": "[encoded data removed]",
      "text/plain": [
       "<Figure size 432x288 with 1 Axes>"
      ]
     },
     "metadata": {
      "needs_background": "light"
     },
     "output_type": "display_data"
    }
   ],
   "source": [
    "plt.hist(defaulters.CREDIT_RATIO, bins = 20)\n",
    "plt.hist(nondefaulters.CREDIT_RATIO, bins = 20, alpha = 0.5)"
   ]
  },
  {
   "cell_type": "code",
   "execution_count": 12,
   "metadata": {},
   "outputs": [],
   "source": [
    "#convert all categories into numerical variables so they can be proberly used to model with\n",
    "credit.SEX = pd.CategoricalIndex(credit.SEX)\n",
    "credit.EDUCATION = pd.CategoricalIndex(credit.EDUCATION)\n",
    "credit.MARRIAGE = pd.CategoricalIndex(credit.MARRIAGE)\n",
    "credit.DEFAULT = pd.CategoricalIndex(credit.DEFAULT)\n",
    "credit.DEFAULTED_BEFORE = pd.CategoricalIndex(credit.DEFAULTED_BEFORE)\n",
    "\n",
    "credit['SEX'] = credit.SEX.cat.codes\n",
    "credit['EDUCATION'] = credit.EDUCATION.cat.codes\n",
    "credit['MARRIAGE'] = credit.MARRIAGE.cat.codes\n",
    "credit['DEFAULT'] = credit.DEFAULT.cat.codes\n",
    "credit['DEFAULTED_BEFORE'] = credit.DEFAULTED_BEFORE.cat.codes"
   ]
  },
  {
   "cell_type": "code",
   "execution_count": 13,
   "metadata": {},
   "outputs": [
    {
     "data": {
      "text/html": [
       "<div>\n",
       "<style scoped>\n",
       "    .dataframe tbody tr th:only-of-type {\n",
       "        vertical-align: middle;\n",
       "    }\n",
       "\n",
       "    .dataframe tbody tr th {\n",
       "        vertical-align: top;\n",
       "    }\n",
       "\n",
       "    .dataframe thead th {\n",
       "        text-align: right;\n",
       "    }\n",
       "</style>\n",
       "<table border=\"1\" class=\"dataframe\">\n",
       "  <thead>\n",
       "    <tr style=\"text-align: right;\">\n",
       "      <th></th>\n",
       "      <th>CREDIT</th>\n",
       "      <th>SEX</th>\n",
       "      <th>EDUCATION</th>\n",
       "      <th>MARRIAGE</th>\n",
       "      <th>AGE</th>\n",
       "      <th>PAYSTAT_APR</th>\n",
       "      <th>PAYSTAT_MAY</th>\n",
       "      <th>PAYSTAT_JUNE</th>\n",
       "      <th>PAYSTAT_JULY</th>\n",
       "      <th>PAYSTAT_AUG</th>\n",
       "      <th>...</th>\n",
       "      <th>PAID_APR</th>\n",
       "      <th>PAID_MAY</th>\n",
       "      <th>PAID_JUNE</th>\n",
       "      <th>PAID_JULY</th>\n",
       "      <th>PAID_AUG</th>\n",
       "      <th>PAID_SEP</th>\n",
       "      <th>DEFAULT</th>\n",
       "      <th>AVG_BILL_INCR</th>\n",
       "      <th>DEFAULTED_BEFORE</th>\n",
       "      <th>CREDIT_RATIO</th>\n",
       "    </tr>\n",
       "  </thead>\n",
       "  <tbody>\n",
       "    <tr>\n",
       "      <th>0</th>\n",
       "      <td>20000</td>\n",
       "      <td>0</td>\n",
       "      <td>3</td>\n",
       "      <td>2</td>\n",
       "      <td>24</td>\n",
       "      <td>-2</td>\n",
       "      <td>-2</td>\n",
       "      <td>-1</td>\n",
       "      <td>-1</td>\n",
       "      <td>2</td>\n",
       "      <td>...</td>\n",
       "      <td>0</td>\n",
       "      <td>0</td>\n",
       "      <td>0</td>\n",
       "      <td>0</td>\n",
       "      <td>689</td>\n",
       "      <td>0</td>\n",
       "      <td>0</td>\n",
       "      <td>0.875212</td>\n",
       "      <td>1</td>\n",
       "      <td>0.155100</td>\n",
       "    </tr>\n",
       "    <tr>\n",
       "      <th>1</th>\n",
       "      <td>120000</td>\n",
       "      <td>0</td>\n",
       "      <td>3</td>\n",
       "      <td>0</td>\n",
       "      <td>26</td>\n",
       "      <td>2</td>\n",
       "      <td>0</td>\n",
       "      <td>0</td>\n",
       "      <td>0</td>\n",
       "      <td>2</td>\n",
       "      <td>...</td>\n",
       "      <td>2000</td>\n",
       "      <td>0</td>\n",
       "      <td>1000</td>\n",
       "      <td>1000</td>\n",
       "      <td>1000</td>\n",
       "      <td>0</td>\n",
       "      <td>0</td>\n",
       "      <td>0.490259</td>\n",
       "      <td>1</td>\n",
       "      <td>0.014375</td>\n",
       "    </tr>\n",
       "    <tr>\n",
       "      <th>2</th>\n",
       "      <td>90000</td>\n",
       "      <td>0</td>\n",
       "      <td>3</td>\n",
       "      <td>0</td>\n",
       "      <td>34</td>\n",
       "      <td>0</td>\n",
       "      <td>0</td>\n",
       "      <td>0</td>\n",
       "      <td>0</td>\n",
       "      <td>0</td>\n",
       "      <td>...</td>\n",
       "      <td>5000</td>\n",
       "      <td>1000</td>\n",
       "      <td>1000</td>\n",
       "      <td>1000</td>\n",
       "      <td>1500</td>\n",
       "      <td>1518</td>\n",
       "      <td>1</td>\n",
       "      <td>0.530010</td>\n",
       "      <td>0</td>\n",
       "      <td>0.155856</td>\n",
       "    </tr>\n",
       "    <tr>\n",
       "      <th>3</th>\n",
       "      <td>50000</td>\n",
       "      <td>0</td>\n",
       "      <td>3</td>\n",
       "      <td>2</td>\n",
       "      <td>37</td>\n",
       "      <td>0</td>\n",
       "      <td>0</td>\n",
       "      <td>0</td>\n",
       "      <td>0</td>\n",
       "      <td>0</td>\n",
       "      <td>...</td>\n",
       "      <td>1000</td>\n",
       "      <td>1069</td>\n",
       "      <td>1100</td>\n",
       "      <td>1200</td>\n",
       "      <td>2019</td>\n",
       "      <td>2000</td>\n",
       "      <td>1</td>\n",
       "      <td>0.522509</td>\n",
       "      <td>0</td>\n",
       "      <td>0.964660</td>\n",
       "    </tr>\n",
       "    <tr>\n",
       "      <th>4</th>\n",
       "      <td>50000</td>\n",
       "      <td>1</td>\n",
       "      <td>3</td>\n",
       "      <td>2</td>\n",
       "      <td>57</td>\n",
       "      <td>0</td>\n",
       "      <td>0</td>\n",
       "      <td>0</td>\n",
       "      <td>-1</td>\n",
       "      <td>0</td>\n",
       "      <td>...</td>\n",
       "      <td>679</td>\n",
       "      <td>689</td>\n",
       "      <td>9000</td>\n",
       "      <td>10000</td>\n",
       "      <td>36681</td>\n",
       "      <td>2000</td>\n",
       "      <td>1</td>\n",
       "      <td>0.478699</td>\n",
       "      <td>0</td>\n",
       "      <td>0.113400</td>\n",
       "    </tr>\n",
       "  </tbody>\n",
       "</table>\n",
       "<p>5 rows × 27 columns</p>\n",
       "</div>"
      ],
      "text/plain": [
       "   CREDIT  SEX  EDUCATION  MARRIAGE  AGE  PAYSTAT_APR  PAYSTAT_MAY  \\\n",
       "0   20000    0          3         2   24           -2           -2   \n",
       "1  120000    0          3         0   26            2            0   \n",
       "2   90000    0          3         0   34            0            0   \n",
       "3   50000    0          3         2   37            0            0   \n",
       "4   50000    1          3         2   57            0            0   \n",
       "\n",
       "   PAYSTAT_JUNE  PAYSTAT_JULY  PAYSTAT_AUG      ...       PAID_APR  PAID_MAY  \\\n",
       "0            -1            -1            2      ...              0         0   \n",
       "1             0             0            2      ...           2000         0   \n",
       "2             0             0            0      ...           5000      1000   \n",
       "3             0             0            0      ...           1000      1069   \n",
       "4             0            -1            0      ...            679       689   \n",
       "\n",
       "   PAID_JUNE  PAID_JULY  PAID_AUG  PAID_SEP  DEFAULT  AVG_BILL_INCR  \\\n",
       "0          0          0       689         0        0       0.875212   \n",
       "1       1000       1000      1000         0        0       0.490259   \n",
       "2       1000       1000      1500      1518        1       0.530010   \n",
       "3       1100       1200      2019      2000        1       0.522509   \n",
       "4       9000      10000     36681      2000        1       0.478699   \n",
       "\n",
       "   DEFAULTED_BEFORE  CREDIT_RATIO  \n",
       "0                 1      0.155100  \n",
       "1                 1      0.014375  \n",
       "2                 0      0.155856  \n",
       "3                 0      0.964660  \n",
       "4                 0      0.113400  \n",
       "\n",
       "[5 rows x 27 columns]"
      ]
     },
     "execution_count": 13,
     "metadata": {},
     "output_type": "execute_result"
    }
   ],
   "source": [
    "credit.head()"
   ]
  },
  {
   "cell_type": "code",
   "execution_count": 14,
   "metadata": {},
   "outputs": [],
   "source": [
    "#Split the data in a train and testset\n",
    "credit_dep = credit.DEFAULT\n",
    "credit_indep = credit.drop(['DEFAULT'], axis=1)\n",
    "X_train, X_test, y_train, y_test = train_test_split(credit_indep, credit_dep, test_size=0.3)"
   ]
  },
  {
   "cell_type": "code",
   "execution_count": 15,
   "metadata": {},
   "outputs": [
    {
     "data": {
      "text/plain": [
       "29466"
      ]
     },
     "execution_count": 15,
     "metadata": {},
     "output_type": "execute_result"
    }
   ],
   "source": [
    "len(credit_indep)\n",
    "len(credit_dep)\n"
   ]
  },
  {
   "cell_type": "code",
   "execution_count": 16,
   "metadata": {},
   "outputs": [
    {
     "name": "stderr",
     "output_type": "stream",
     "text": [
      "D:\\Users\\Jeroen\\Anaconda3\\lib\\site-packages\\sklearn\\ensemble\\forest.py:246: FutureWarning: The default value of n_estimators will change from 10 in version 0.20 to 100 in 0.22.\n",
      "  \"10 in version 0.20 to 100 in 0.22.\", FutureWarning)\n"
     ]
    },
    {
     "data": {
      "text/plain": [
       "0.8113122171945701"
      ]
     },
     "execution_count": 16,
     "metadata": {},
     "output_type": "execute_result"
    }
   ],
   "source": [
    "# Build a forest and compute the feature importances\n",
    "## Fit the model on your training data.\n",
    "rf.fit(X_train, y_train) \n",
    "## And score it on your testing data.\n",
    "rf.score(X_test, y_test)\n"
   ]
  },
  {
   "cell_type": "code",
   "execution_count": 17,
   "metadata": {},
   "outputs": [
    {
     "name": "stdout",
     "output_type": "stream",
     "text": [
      "                  importance\n",
      "PAYSTAT_SEP         0.102151\n",
      "CUR_BIL_SEP         0.069465\n",
      "CREDIT_RATIO        0.059051\n",
      "DEFAULTED_BEFORE    0.053818\n",
      "AVG_BILL_INCR       0.051203\n",
      "CUR_BIL_AUG         0.049112\n",
      "AGE                 0.047065\n",
      "CUR_BIL_JULY        0.044110\n",
      "CUR_BIL_APR         0.043276\n",
      "PAID_SEP            0.042717\n",
      "CUR_BIL_JUNE        0.041729\n",
      "PAID_AUG            0.041708\n",
      "CUR_BIL_MAY         0.041582\n",
      "PAID_JUNE           0.039855\n",
      "CREDIT              0.039056\n",
      "PAID_JULY           0.038747\n",
      "PAID_APR            0.038637\n",
      "PAID_MAY            0.033993\n",
      "PAYSTAT_AUG         0.027646\n",
      "PAYSTAT_JUNE        0.027489\n",
      "PAYSTAT_JULY        0.014349\n",
      "EDUCATION           0.013486\n",
      "PAYSTAT_APR         0.010625\n",
      "MARRIAGE            0.010027\n",
      "PAYSTAT_MAY         0.009989\n",
      "SEX                 0.009113\n"
     ]
    }
   ],
   "source": [
    "feature_importances = pd.DataFrame(rf.feature_importances_,\n",
    "                                   index = X_train.columns,\n",
    "                                    columns=['importance']).sort_values('importance',\n",
    "                                                                        ascending=False)\n",
    "print(feature_importances)"
   ]
  },
  {
   "cell_type": "code",
   "execution_count": 18,
   "metadata": {},
   "outputs": [],
   "source": [
    "#Generate dummies for PAYSTAT_SEP since this variable has most explanatory power over the independent var\n",
    "September_dummies = pd.get_dummies(credit.PAYSTAT_SEP)\n",
    "September_dummies.columns = [\"No_payment\", \"Paid_in_time\", \"Paid_partly\", \n",
    "                             \"1_month_late\", \"2_months_late\", \"3_months_late\", \n",
    "                             \"4_months_late\", \"5_months_late\", \"6_months_late\", \n",
    "                             \"7_months_late\", \"8_months_late\"]\n",
    "September_dummies[\"4>_months_late\"] = (September_dummies[\"4_months_late\"] +\n",
    "                                       September_dummies[\"5_months_late\"] +\n",
    "                                       September_dummies[\"6_months_late\"] +\n",
    "                                       September_dummies[\"7_months_late\"] +\n",
    "                                       September_dummies[\"8_months_late\"])\n"
   ]
  },
  {
   "cell_type": "code",
   "execution_count": 19,
   "metadata": {},
   "outputs": [],
   "source": [
    "#Generate dummies for PAYSTAT_AUG \n",
    "August_dummies = pd.get_dummies(credit.PAYSTAT_AUG)\n",
    "August_dummies.columns = [\"Aug_No_payment\", \"Aug_Paid_in_time\", \"Aug_Paid_partly\", \n",
    "                             \"Aug_1_month_late\", \"Aug_2_months_late\", \"Aug_3_months_late\", \n",
    "                             \"Aug_4_months_late\", \"Aug_5_months_late\", \"Aug_6_months_late\", \n",
    "                             \"Aug_7_months_late\", \"Aug_8_months_late\"]\n",
    "\n",
    "August_dummies[\"4>_months_late\"] = (August_dummies[\"Aug_4_months_late\"] +\n",
    "                                       August_dummies[\"Aug_5_months_late\"] +\n",
    "                                       August_dummies[\"Aug_6_months_late\"] +\n",
    "                                       August_dummies[\"Aug_7_months_late\"] +\n",
    "                                       August_dummies[\"Aug_8_months_late\"])\n"
   ]
  },
  {
   "cell_type": "code",
   "execution_count": 20,
   "metadata": {},
   "outputs": [],
   "source": [
    "#Add dataframes together\n",
    "New_credit = pd.concat([credit, September_dummies, August_dummies], axis = 1)"
   ]
  },
  {
   "cell_type": "code",
   "execution_count": 21,
   "metadata": {},
   "outputs": [],
   "source": [
    "#Keep only the variables that seem important and are not overly correlated with each other\n",
    "credit = New_credit[[\"CUR_BIL_SEP\", \"PAID_SEP\", \"CREDIT\", \"CREDIT_RATIO\", \"AGE\", \"No_payment\", \"Paid_in_time\", \"Paid_partly\", \n",
    "                             \"1_month_late\", \"2_months_late\", \"3_months_late\", \n",
    "                             \"4_months_late\", \"5_months_late\", \"6_months_late\", \n",
    "                             \"7_months_late\", \"8_months_late\", \"DEFAULT\"]]\n",
    "\n",
    "#split dep and independent variables again for standardization\n",
    "credit_dep = credit.DEFAULT\n",
    "credit_indep = credit.drop(['DEFAULT'], axis=1)"
   ]
  },
  {
   "cell_type": "code",
   "execution_count": 22,
   "metadata": {},
   "outputs": [
    {
     "name": "stderr",
     "output_type": "stream",
     "text": [
      "D:\\Users\\Jeroen\\Anaconda3\\lib\\site-packages\\ipykernel_launcher.py:8: DataConversionWarning: Data with input dtype uint8, int64, float64 were all converted to float64 by the scale function.\n",
      "  \n"
     ]
    }
   ],
   "source": [
    "#standardize the data\n",
    "from sklearn import preprocessing\n",
    "\n",
    "# Get column names\n",
    "names = credit_indep.columns\n",
    "\n",
    "#scale the data\n",
    "scaled_credit = pd.DataFrame(preprocessing.scale(credit_indep))\n",
    "\n",
    "#return columnnames\n",
    "scaled_credit.columns = names"
   ]
  },
  {
   "cell_type": "code",
   "execution_count": 23,
   "metadata": {},
   "outputs": [],
   "source": [
    "#Restore row index to make combining the dataframes easier\n",
    "credit_dep.index = range(len(credit_dep))\n"
   ]
  },
  {
   "cell_type": "code",
   "execution_count": 24,
   "metadata": {},
   "outputs": [],
   "source": [
    "#add the dataframes together\n",
    "credit = scaled_credit\n",
    "credit[\"DEFAULT\"] = credit_dep"
   ]
  },
  {
   "cell_type": "code",
   "execution_count": 25,
   "metadata": {},
   "outputs": [
    {
     "name": "stdout",
     "output_type": "stream",
     "text": [
      "False\n",
      "False\n",
      "False\n",
      "False\n"
     ]
    }
   ],
   "source": [
    "#See whether there are Na's due the scaling the dataframes\n",
    "print(credit_indep.isnull().values.any())\n",
    "print(credit_dep.isnull().values.any())\n",
    "\n",
    "print(scaled_credit.isnull().values.any())\n",
    "print(credit.isnull().values.any())"
   ]
  },
  {
   "cell_type": "code",
   "execution_count": 26,
   "metadata": {},
   "outputs": [],
   "source": [
    "# Save the dataframe and create a new \n",
    "credit.to_csv(\"C:\\\\Users\\\\Jeroen\\\\Desktop\\\\Ubiqum\\\\Data Science\\\\Excel Files\\\\Credit_3.csv\")"
   ]
  }
 ],
 "metadata": {
  "kernelspec": {
   "display_name": "Python 3",
   "language": "python",
   "name": "python3"
  },
  "language_info": {
   "codemirror_mode": {
    "name": "ipython",
    "version": 3
   },
   "file_extension": ".py",
   "mimetype": "text/x-python",
   "name": "python",
   "nbconvert_exporter": "python",
   "pygments_lexer": "ipython3",
   "version": "3.7.0"
  }
 },
 "nbformat": 4,
 "nbformat_minor": 2
}
