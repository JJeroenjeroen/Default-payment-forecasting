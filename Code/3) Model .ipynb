{
 "cells": [
  {
   "cell_type": "code",
   "execution_count": 36,
   "metadata": {},
   "outputs": [],
   "source": [
    "# Import whatever will be used in this notebook\n",
    "import pylab\n",
    "import math\n",
    "import pandas as pd\n",
    "import numpy as np\n",
    "import sklearn as sk\n",
    "import matplotlib.pyplot as plt\n",
    "\n",
    "# Import from sklearn\n",
    "#Estimators:\n",
    "from sklearn.ensemble import RandomForestClassifier\n",
    "from sklearn.svm import SVC\n",
    "from sklearn import linear_model\n",
    "from sklearn.neighbors import KNeighborsClassifier\n",
    "from sklearn.linear_model import LogisticRegression\n",
    "\n",
    "#Set generation \n",
    "from sklearn.model_selection import train_test_split\n",
    "\n",
    "#Performance metrics:\n",
    "from sklearn import metrics\n",
    "from sklearn.metrics import cohen_kappa_score\n",
    "from sklearn.model_selection import cross_val_score\n",
    "\n",
    "#K-fold crossvalidation\n",
    "from sklearn.model_selection import KFold"
   ]
  },
  {
   "cell_type": "code",
   "execution_count": 37,
   "metadata": {},
   "outputs": [],
   "source": [
    "# Surpress warnings regarding the version of the pandas library which is used \n",
    "import warnings\n",
    "warnings.simplefilter(action='ignore', category=FutureWarning)"
   ]
  },
  {
   "cell_type": "code",
   "execution_count": 38,
   "metadata": {},
   "outputs": [],
   "source": [
    "# Make variable for the imported models\n",
    "modelSVC = SVC()\n",
    "modelRF = RandomForestClassifier()\n",
    "modelLR = LogisticRegression()\n",
    "modelKNN = KNeighborsClassifier"
   ]
  },
  {
   "cell_type": "code",
   "execution_count": 39,
   "metadata": {},
   "outputs": [],
   "source": [
    "#read in the csv file and remove the extra ID column\n",
    "credit = pd.read_csv(\"C:\\\\Users\\\\Jeroen\\\\Desktop\\\\Ubiqum\\\\Data Science\\\\Excel Files\\\\credit_3.csv\", header = 0)\n",
    "credit = credit[credit.columns[1:len(credit.columns)]]"
   ]
  },
  {
   "cell_type": "code",
   "execution_count": 40,
   "metadata": {},
   "outputs": [
    {
     "data": {
      "text/html": [
       "<div>\n",
       "<style scoped>\n",
       "    .dataframe tbody tr th:only-of-type {\n",
       "        vertical-align: middle;\n",
       "    }\n",
       "\n",
       "    .dataframe tbody tr th {\n",
       "        vertical-align: top;\n",
       "    }\n",
       "\n",
       "    .dataframe thead th {\n",
       "        text-align: right;\n",
       "    }\n",
       "</style>\n",
       "<table border=\"1\" class=\"dataframe\">\n",
       "  <thead>\n",
       "    <tr style=\"text-align: right;\">\n",
       "      <th></th>\n",
       "      <th>PAYSTAT_SEP</th>\n",
       "      <th>CUR_BIL_SEP</th>\n",
       "      <th>PAID_SEP</th>\n",
       "      <th>CREDIT</th>\n",
       "      <th>CREDIT_RATIO</th>\n",
       "      <th>AGE</th>\n",
       "      <th>DEFAULT</th>\n",
       "    </tr>\n",
       "  </thead>\n",
       "  <tbody>\n",
       "    <tr>\n",
       "      <th>29461</th>\n",
       "      <td>0.017741</td>\n",
       "      <td>1.849291</td>\n",
       "      <td>0.164656</td>\n",
       "      <td>0.412625</td>\n",
       "      <td>1.132625</td>\n",
       "      <td>0.387036</td>\n",
       "      <td>1</td>\n",
       "    </tr>\n",
       "    <tr>\n",
       "      <th>29462</th>\n",
       "      <td>-0.875875</td>\n",
       "      <td>-0.682263</td>\n",
       "      <td>-0.234720</td>\n",
       "      <td>-0.127385</td>\n",
       "      <td>-1.004498</td>\n",
       "      <td>0.822032</td>\n",
       "      <td>1</td>\n",
       "    </tr>\n",
       "    <tr>\n",
       "      <th>29463</th>\n",
       "      <td>3.592206</td>\n",
       "      <td>-0.656821</td>\n",
       "      <td>-0.344828</td>\n",
       "      <td>-1.053118</td>\n",
       "      <td>-0.758007</td>\n",
       "      <td>0.169538</td>\n",
       "      <td>0</td>\n",
       "    </tr>\n",
       "    <tr>\n",
       "      <th>29464</th>\n",
       "      <td>0.911357</td>\n",
       "      <td>-0.727253</td>\n",
       "      <td>4.803964</td>\n",
       "      <td>-0.667396</td>\n",
       "      <td>1.388081</td>\n",
       "      <td>0.604534</td>\n",
       "      <td>0</td>\n",
       "    </tr>\n",
       "    <tr>\n",
       "      <th>29465</th>\n",
       "      <td>0.017741</td>\n",
       "      <td>-0.057084</td>\n",
       "      <td>-0.220274</td>\n",
       "      <td>-0.898829</td>\n",
       "      <td>1.384032</td>\n",
       "      <td>1.148279</td>\n",
       "      <td>0</td>\n",
       "    </tr>\n",
       "  </tbody>\n",
       "</table>\n",
       "</div>"
      ],
      "text/plain": [
       "       PAYSTAT_SEP  CUR_BIL_SEP  PAID_SEP    CREDIT  CREDIT_RATIO       AGE  \\\n",
       "29461     0.017741     1.849291  0.164656  0.412625      1.132625  0.387036   \n",
       "29462    -0.875875    -0.682263 -0.234720 -0.127385     -1.004498  0.822032   \n",
       "29463     3.592206    -0.656821 -0.344828 -1.053118     -0.758007  0.169538   \n",
       "29464     0.911357    -0.727253  4.803964 -0.667396      1.388081  0.604534   \n",
       "29465     0.017741    -0.057084 -0.220274 -0.898829      1.384032  1.148279   \n",
       "\n",
       "       DEFAULT  \n",
       "29461        1  \n",
       "29462        1  \n",
       "29463        0  \n",
       "29464        0  \n",
       "29465        0  "
      ]
     },
     "execution_count": 40,
     "metadata": {},
     "output_type": "execute_result"
    }
   ],
   "source": [
    "#Give head of the df so it is easily visible which vars should function as independent variable\n",
    "credit.head()\n",
    "credit.tail()"
   ]
  },
  {
   "cell_type": "code",
   "execution_count": 41,
   "metadata": {},
   "outputs": [
    {
     "data": {
      "text/html": [
       "<div>\n",
       "<style scoped>\n",
       "    .dataframe tbody tr th:only-of-type {\n",
       "        vertical-align: middle;\n",
       "    }\n",
       "\n",
       "    .dataframe tbody tr th {\n",
       "        vertical-align: top;\n",
       "    }\n",
       "\n",
       "    .dataframe thead th {\n",
       "        text-align: right;\n",
       "    }\n",
       "</style>\n",
       "<table border=\"1\" class=\"dataframe\">\n",
       "  <thead>\n",
       "    <tr style=\"text-align: right;\">\n",
       "      <th></th>\n",
       "      <th>PAYSTAT_SEP</th>\n",
       "      <th>CUR_BIL_SEP</th>\n",
       "      <th>PAID_SEP</th>\n",
       "      <th>CREDIT</th>\n",
       "      <th>CREDIT_RATIO</th>\n",
       "      <th>AGE</th>\n",
       "    </tr>\n",
       "  </thead>\n",
       "  <tbody>\n",
       "    <tr>\n",
       "      <th>0</th>\n",
       "      <td>1.804974</td>\n",
       "      <td>-0.652117</td>\n",
       "      <td>-0.344828</td>\n",
       "      <td>-1.130262</td>\n",
       "      <td>-0.651099</td>\n",
       "      <td>-1.244199</td>\n",
       "    </tr>\n",
       "    <tr>\n",
       "      <th>1</th>\n",
       "      <td>-0.875875</td>\n",
       "      <td>-0.668758</td>\n",
       "      <td>-0.344828</td>\n",
       "      <td>-0.358818</td>\n",
       "      <td>-0.999086</td>\n",
       "      <td>-1.026701</td>\n",
       "    </tr>\n",
       "    <tr>\n",
       "      <th>2</th>\n",
       "      <td>0.017741</td>\n",
       "      <td>-0.309746</td>\n",
       "      <td>-0.253840</td>\n",
       "      <td>-0.590251</td>\n",
       "      <td>-0.649230</td>\n",
       "      <td>-0.156709</td>\n",
       "    </tr>\n",
       "    <tr>\n",
       "      <th>3</th>\n",
       "      <td>0.017741</td>\n",
       "      <td>-0.069778</td>\n",
       "      <td>-0.224950</td>\n",
       "      <td>-0.898829</td>\n",
       "      <td>1.350797</td>\n",
       "      <td>0.169538</td>\n",
       "    </tr>\n",
       "    <tr>\n",
       "      <th>4</th>\n",
       "      <td>-0.875875</td>\n",
       "      <td>-0.588526</td>\n",
       "      <td>-0.224950</td>\n",
       "      <td>-0.898829</td>\n",
       "      <td>-0.754215</td>\n",
       "      <td>2.344518</td>\n",
       "    </tr>\n",
       "  </tbody>\n",
       "</table>\n",
       "</div>"
      ],
      "text/plain": [
       "   PAYSTAT_SEP  CUR_BIL_SEP  PAID_SEP    CREDIT  CREDIT_RATIO       AGE\n",
       "0     1.804974    -0.652117 -0.344828 -1.130262     -0.651099 -1.244199\n",
       "1    -0.875875    -0.668758 -0.344828 -0.358818     -0.999086 -1.026701\n",
       "2     0.017741    -0.309746 -0.253840 -0.590251     -0.649230 -0.156709\n",
       "3     0.017741    -0.069778 -0.224950 -0.898829      1.350797  0.169538\n",
       "4    -0.875875    -0.588526 -0.224950 -0.898829     -0.754215  2.344518"
      ]
     },
     "execution_count": 41,
     "metadata": {},
     "output_type": "execute_result"
    }
   ],
   "source": [
    "#Select the features that will function as independent variables:\n",
    "credit_indep = credit.iloc[:, 0:(len(credit.columns)-1)]\n",
    "credit_indep.head()"
   ]
  },
  {
   "cell_type": "code",
   "execution_count": 42,
   "metadata": {},
   "outputs": [
    {
     "data": {
      "text/plain": [
       "0    0\n",
       "1    0\n",
       "2    1\n",
       "3    1\n",
       "4    1\n",
       "Name: DEFAULT, dtype: int64"
      ]
     },
     "execution_count": 42,
     "metadata": {},
     "output_type": "execute_result"
    }
   ],
   "source": [
    "#Select the dependent variable and turn it into a seperate vector:\n",
    "credit_dep = credit['DEFAULT']\n",
    "credit_dep.head()"
   ]
  },
  {
   "cell_type": "code",
   "execution_count": 43,
   "metadata": {},
   "outputs": [
    {
     "data": {
      "text/html": [
       "<div>\n",
       "<style scoped>\n",
       "    .dataframe tbody tr th:only-of-type {\n",
       "        vertical-align: middle;\n",
       "    }\n",
       "\n",
       "    .dataframe tbody tr th {\n",
       "        vertical-align: top;\n",
       "    }\n",
       "\n",
       "    .dataframe thead th {\n",
       "        text-align: right;\n",
       "    }\n",
       "</style>\n",
       "<table border=\"1\" class=\"dataframe\">\n",
       "  <thead>\n",
       "    <tr style=\"text-align: right;\">\n",
       "      <th></th>\n",
       "      <th>PAYSTAT_SEP</th>\n",
       "      <th>CUR_BIL_SEP</th>\n",
       "      <th>PAID_SEP</th>\n",
       "      <th>CREDIT</th>\n",
       "      <th>CREDIT_RATIO</th>\n",
       "      <th>AGE</th>\n",
       "      <th>DEFAULT</th>\n",
       "    </tr>\n",
       "  </thead>\n",
       "  <tbody>\n",
       "    <tr>\n",
       "      <th>count</th>\n",
       "      <td>2.946600e+04</td>\n",
       "      <td>2.946600e+04</td>\n",
       "      <td>2.946600e+04</td>\n",
       "      <td>2.946600e+04</td>\n",
       "      <td>2.946600e+04</td>\n",
       "      <td>2.946600e+04</td>\n",
       "      <td>29466.000000</td>\n",
       "    </tr>\n",
       "    <tr>\n",
       "      <th>mean</th>\n",
       "      <td>-3.208420e-15</td>\n",
       "      <td>-2.103345e-16</td>\n",
       "      <td>2.656975e-16</td>\n",
       "      <td>-3.281235e-15</td>\n",
       "      <td>3.921537e-16</td>\n",
       "      <td>4.803280e-16</td>\n",
       "      <td>0.792914</td>\n",
       "    </tr>\n",
       "    <tr>\n",
       "      <th>std</th>\n",
       "      <td>1.000017e+00</td>\n",
       "      <td>1.000017e+00</td>\n",
       "      <td>1.000017e+00</td>\n",
       "      <td>1.000017e+00</td>\n",
       "      <td>1.000017e+00</td>\n",
       "      <td>1.000017e+00</td>\n",
       "      <td>0.405225</td>\n",
       "    </tr>\n",
       "    <tr>\n",
       "      <th>min</th>\n",
       "      <td>-1.769491e+00</td>\n",
       "      <td>-2.943419e+00</td>\n",
       "      <td>-3.448283e-01</td>\n",
       "      <td>-1.207406e+00</td>\n",
       "      <td>-4.485552e+00</td>\n",
       "      <td>-1.570446e+00</td>\n",
       "      <td>0.000000</td>\n",
       "    </tr>\n",
       "    <tr>\n",
       "      <th>25%</th>\n",
       "      <td>-8.758749e-01</td>\n",
       "      <td>-6.490855e-01</td>\n",
       "      <td>-2.847691e-01</td>\n",
       "      <td>-8.988289e-01</td>\n",
       "      <td>-9.815463e-01</td>\n",
       "      <td>-8.092031e-01</td>\n",
       "      <td>1.000000</td>\n",
       "    </tr>\n",
       "    <tr>\n",
       "      <th>50%</th>\n",
       "      <td>1.774131e-02</td>\n",
       "      <td>-3.848821e-01</td>\n",
       "      <td>-2.132614e-01</td>\n",
       "      <td>-2.045296e-01</td>\n",
       "      <td>-2.549452e-01</td>\n",
       "      <td>-1.567091e-01</td>\n",
       "      <td>1.000000</td>\n",
       "    </tr>\n",
       "    <tr>\n",
       "      <th>75%</th>\n",
       "      <td>1.774131e-02</td>\n",
       "      <td>2.204590e-01</td>\n",
       "      <td>-4.252409e-02</td>\n",
       "      <td>5.669140e-01</td>\n",
       "      <td>9.783657e-01</td>\n",
       "      <td>6.045339e-01</td>\n",
       "      <td>1.000000</td>\n",
       "    </tr>\n",
       "    <tr>\n",
       "      <th>max</th>\n",
       "      <td>7.166671e+00</td>\n",
       "      <td>1.233379e+01</td>\n",
       "      <td>5.201533e+01</td>\n",
       "      <td>6.429886e+00</td>\n",
       "      <td>1.474319e+01</td>\n",
       "      <td>4.736996e+00</td>\n",
       "      <td>1.000000</td>\n",
       "    </tr>\n",
       "  </tbody>\n",
       "</table>\n",
       "</div>"
      ],
      "text/plain": [
       "        PAYSTAT_SEP   CUR_BIL_SEP      PAID_SEP        CREDIT  CREDIT_RATIO  \\\n",
       "count  2.946600e+04  2.946600e+04  2.946600e+04  2.946600e+04  2.946600e+04   \n",
       "mean  -3.208420e-15 -2.103345e-16  2.656975e-16 -3.281235e-15  3.921537e-16   \n",
       "std    1.000017e+00  1.000017e+00  1.000017e+00  1.000017e+00  1.000017e+00   \n",
       "min   -1.769491e+00 -2.943419e+00 -3.448283e-01 -1.207406e+00 -4.485552e+00   \n",
       "25%   -8.758749e-01 -6.490855e-01 -2.847691e-01 -8.988289e-01 -9.815463e-01   \n",
       "50%    1.774131e-02 -3.848821e-01 -2.132614e-01 -2.045296e-01 -2.549452e-01   \n",
       "75%    1.774131e-02  2.204590e-01 -4.252409e-02  5.669140e-01  9.783657e-01   \n",
       "max    7.166671e+00  1.233379e+01  5.201533e+01  6.429886e+00  1.474319e+01   \n",
       "\n",
       "                AGE       DEFAULT  \n",
       "count  2.946600e+04  29466.000000  \n",
       "mean   4.803280e-16      0.792914  \n",
       "std    1.000017e+00      0.405225  \n",
       "min   -1.570446e+00      0.000000  \n",
       "25%   -8.092031e-01      1.000000  \n",
       "50%   -1.567091e-01      1.000000  \n",
       "75%    6.045339e-01      1.000000  \n",
       "max    4.736996e+00      1.000000  "
      ]
     },
     "execution_count": 43,
     "metadata": {},
     "output_type": "execute_result"
    }
   ],
   "source": [
    "credit.describe()"
   ]
  },
  {
   "cell_type": "code",
   "execution_count": 44,
   "metadata": {},
   "outputs": [
    {
     "name": "stdout",
     "output_type": "stream",
     "text": [
      "(20626, 6) (20626,)\n",
      "(8840, 6) (8840,)\n"
     ]
    }
   ],
   "source": [
    "#generate a dataframe that functions as a trainingset\n",
    "\n",
    "X_train, X_test, y_train, y_test = train_test_split(credit_indep, credit_dep, test_size=0.3)\n",
    "print(X_train.shape, y_train.shape)\n",
    "print(X_test.shape, y_test.shape)"
   ]
  },
  {
   "cell_type": "code",
   "execution_count": 45,
   "metadata": {},
   "outputs": [
    {
     "name": "stdout",
     "output_type": "stream",
     "text": [
      "0.8134870164032775\n"
     ]
    }
   ],
   "source": [
    "# Do a Kfold cross validation on the training data for k = 5\n",
    "\n",
    "knn = KNeighborsClassifier(n_neighbors = 5)\n",
    "CVscores = cross_val_score(knn, X_train, y_train, cv = 10, scoring = \"accuracy\")\n",
    "print(CVscores.mean())"
   ]
  },
  {
   "cell_type": "code",
   "execution_count": 48,
   "metadata": {},
   "outputs": [
    {
     "name": "stdout",
     "output_type": "stream",
     "text": [
      "[0.6958684089399247, 0.7989905747799787, 0.7790644880258284, 0.8134870164032775, 0.8067478924075896, 0.822407735384844, 0.8183355955679321, 0.8250259173568951, 0.8235232748443432, 0.8266261172672833, 0.8258987857277523, 0.8280322837411076, 0.8268685297700513, 0.8292927488289585, 0.828759333186958, 0.8303594860817327, 0.8300199863372628, 0.8304563382453679, 0.8304078886557436, 0.8311351731796612, 0.8313774446355889, 0.8315714075487328, 0.830795767466418, 0.8320562325542689, 0.8312805924719541, 0.8318136319890472, 0.8319590512813401, 0.8323952621426048, 0.8328800871481409, 0.8333649121536771, 0.8330740030456714, 0.8332194693535777, 0.8326376746453731, 0.8331224996509091, 0.8322982924399364, 0.833122734728976, 0.8321530377022907, 0.8327347853948817, 0.8322984334867766, 0.8329288188314458, 0.8329771978976499, 0.8325894836416226, 0.8326377921844065, 0.832831708081937, 0.8321528731476437, 0.8321045175892461, 0.8327347383792685, 0.8324438762868761, 0.832734691363655, 0.8327832820001193, 0.832686053711577, 0.8326861947584172, 0.8323952621426048, 0.8325407284505111, 0.8323952621426048, 0.8325407754661246, 0.832734691363655, 0.8327831409532791, 0.83249218482966, 0.8328800871481411, 0.8325893190869756, 0.8330740735690917, 0.8331711373029871, 0.8330740970768982, 0.8334135262979483, 0.8334135027901416, 0.8336074186876721, 0.8335589220824342, 0.8336074657032855, 0.833559039621468, 0.8327832820001195, 0.8330256945028875, 0.8332196104004179, 0.833122664205556, 0.8335590161136611, 0.8331226406977492, 0.8331712078264072, 0.8334135733135616, 0.8331712078264071, 0.8333166741343133, 0.8333652412629711, 0.8333167211499266, 0.8337045999606009, 0.8332682010368823, 0.833268154021269, 0.832880251702788, 0.8332196809238379, 0.8326863122974508, 0.8329771743898432, 0.8324923258765005, 0.8327348089026885, 0.8326378862156334, 0.8323954031894452, 0.8323954031894452, 0.8323954031894452, 0.8322500544205724, 0.832056067999622, 0.8319591218047602]\n"
     ]
    }
   ],
   "source": [
    "# Do a Kfold cross validation on the training data to select optimal K \n",
    "k_range = range(2,100)\n",
    "k_scores= []\n",
    "for k in k_range:\n",
    "    knn = KNeighborsClassifier(n_neighbors = k)\n",
    "    CVscores = cross_val_score(knn, X_train, y_train, cv = 10, scoring = \"accuracy\")\n",
    "    k_scores.append(CVscores.mean())\n",
    "print(k_scores)"
   ]
  },
  {
   "cell_type": "code",
   "execution_count": 49,
   "metadata": {},
   "outputs": [
    {
     "data": {
      "text/plain": [
       "Text(0,0.5,'Cross validation score')"
      ]
     },
     "execution_count": 49,
     "metadata": {},
     "output_type": "execute_result"
    },
    {
     "data": {
      "image/png": "[encoded data removed]",
      "text/plain": [
       "<Figure size 432x288 with 1 Axes>"
      ]
     },
     "metadata": {
      "needs_background": "light"
     },
     "output_type": "display_data"
    }
   ],
   "source": [
    "plt.plot(k_range, k_scores)\n",
    "plt.xlabel('Number of Neighbors')\n",
    "plt.ylabel('Cross validation score')"
   ]
  },
  {
   "cell_type": "code",
   "execution_count": 34,
   "metadata": {},
   "outputs": [
    {
     "name": "stdout",
     "output_type": "stream",
     "text": [
      "0.8273755656108597\n",
      "0.36360544201640865\n"
     ]
    }
   ],
   "source": [
    "# Check classification accuracy using the top K that was retrieved from the Knn cross-validation\n",
    "knn = KNeighborsClassifier(n_neighbors = k_range[((k_scores.index(max(k_scores))))])\n",
    "knn.fit(X_train, y_train)\n",
    "y_pred = knn.predict(X_test)\n",
    "print(metrics.accuracy_score(y_test, y_pred))\n",
    "print(cohen_kappa_score(y_test, y_pred))"
   ]
  },
  {
   "cell_type": "code",
   "execution_count": 35,
   "metadata": {},
   "outputs": [
    {
     "name": "stdout",
     "output_type": "stream",
     "text": [
      "0.8244940688906024\n"
     ]
    }
   ],
   "source": [
    "# Do a Kfold cross validation on the training data for a logistic regression\n",
    "\n",
    "logregression = LogisticRegression(solver='liblinear')\n",
    "CVscores = cross_val_score(logregression, X_train, y_train, cv = 10, scoring = \"accuracy\")\n",
    "print(CVscores.mean())"
   ]
  },
  {
   "cell_type": "code",
   "execution_count": 15,
   "metadata": {},
   "outputs": [
    {
     "name": "stdout",
     "output_type": "stream",
     "text": [
      "0.8200226244343891\n",
      "0.2864906217848947\n"
     ]
    }
   ],
   "source": [
    "# Check classification accuracy using the logregression\n",
    "\n",
    "logregression.fit(X_train, y_train)\n",
    "y_pred = logregression.predict(X_test)\n",
    "print(metrics.accuracy_score(y_test, y_pred))\n",
    "print(cohen_kappa_score(y_test, y_pred))"
   ]
  },
  {
   "cell_type": "code",
   "execution_count": 16,
   "metadata": {},
   "outputs": [
    {
     "data": {
      "text/plain": [
       "LogisticRegression(C=1.0, class_weight=None, dual=False, fit_intercept=True,\n",
       "          intercept_scaling=1, max_iter=100, multi_class='warn',\n",
       "          n_jobs=None, penalty='l2', random_state=None, solver='warn',\n",
       "          tol=0.0001, verbose=0, warm_start=False)"
      ]
     },
     "execution_count": 16,
     "metadata": {},
     "output_type": "execute_result"
    }
   ],
   "source": [
    "#train using a Support vector machine, a random forest and a logistic regression, \n",
    "\n",
    "modelSVC.fit(X_train, y_train)\n",
    "modelRF.fit(X_train, y_train)\n"
   ]
  },
  {
   "cell_type": "code",
   "execution_count": null,
   "metadata": {},
   "outputs": [],
   "source": [
    "#Print cross-validation scores \n",
    "\n",
    "print(cross_val_score(modelSVC, X_train, y_train)) \n",
    "print(cross_val_score(modelRF, X_train, y_train)) \n",
    "\n",
    "#Print model validation scores \n",
    "\n",
    "print(modelSVC.score(X_train, y_train))\n",
    "print(modelRF.score(X_train, y_train))\n"
   ]
  },
  {
   "cell_type": "code",
   "execution_count": 19,
   "metadata": {},
   "outputs": [
    {
     "name": "stdout",
     "output_type": "stream",
     "text": [
      "0.8307692307692308\n",
      "0.3680148205395184\n"
     ]
    }
   ],
   "source": [
    "# Check classification accuracy of using the Support Vector Machine\n",
    "y_pred = modelSVC.predict(X_test)\n",
    "print(metrics.accuracy_score(y_test, y_pred))\n",
    "print(cohen_kappa_score(y_test, y_pred))"
   ]
  },
  {
   "cell_type": "code",
   "execution_count": 20,
   "metadata": {},
   "outputs": [
    {
     "name": "stdout",
     "output_type": "stream",
     "text": [
      "0.8054298642533937\n",
      "0.356545945678306\n"
     ]
    }
   ],
   "source": [
    "# Check classification of accuracy using the Random forest\n",
    "y_pred = modelRF.predict(X_test)\n",
    "print(metrics.accuracy_score(y_test, y_pred))\n",
    "print(cohen_kappa_score(y_test, y_pred))"
   ]
  }
 ],
 "metadata": {
  "kernelspec": {
   "display_name": "Python 3",
   "language": "python",
   "name": "python3"
  },
  "language_info": {
   "codemirror_mode": {
    "name": "ipython",
    "version": 3
   },
   "file_extension": ".py",
   "mimetype": "text/x-python",
   "name": "python",
   "nbconvert_exporter": "python",
   "pygments_lexer": "ipython3",
   "version": "3.7.0"
  }
 },
 "nbformat": 4,
 "nbformat_minor": 2
}
